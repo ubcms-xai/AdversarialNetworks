{
 "cells": [
  {
   "cell_type": "code",
   "execution_count": null,
   "metadata": {},
   "outputs": [],
   "source": []
  },
  {
   "cell_type": "code",
   "execution_count": 8,
   "metadata": {},
   "outputs": [],
   "source": [
    "import numpy as np\n",
    "import tensorflow as tf\n",
    "from tensorflow import keras\n",
    "from tf_keras_model import get_particle_net, get_particle_net_lite\n",
    "import logging\n",
    "logging.basicConfig(level=logging.INFO, format='[%(asctime)s] %(levelname)s: %(message)s')"
   ]
  },
  {
   "cell_type": "markdown",
   "metadata": {},
   "source": [
    "## tf_keras_model.py"
   ]
  },
  {
   "cell_type": "code",
   "execution_count": null,
   "metadata": {},
   "outputs": [],
   "source": [
    "# A shape is (N, P_A, C), B shape is (N, P_B, C)\n",
    "# D shape is (N, P_A, P_B)\n",
    "def batch_distance_matrix_general(A, B):\n",
    "    with tf.name_scope('dmat'):\n",
    "        r_A = tf.reduce_sum(A * A, axis=2, keepdims=True)\n",
    "        r_B = tf.reduce_sum(B * B, axis=2, keepdims=True)\n",
    "        m = tf.matmul(A, tf.transpose(B, perm=(0, 2, 1)))\n",
    "        D = r_A - 2 * m + tf.transpose(r_B, perm=(0, 2, 1))\n",
    "        return D\n",
    "\n",
    "\n",
    "def knn(num_points, k, topk_indices, features):\n",
    "    # topk_indices: (N, P, K)\n",
    "    # features: (N, P, C)\n",
    "    with tf.name_scope('knn'):\n",
    "        queries_shape = tf.shape(features)\n",
    "        batch_size = queries_shape[0]\n",
    "        batch_indices = tf.tile(tf.reshape(tf.range(batch_size), (-1, 1, 1, 1)), (1, num_points, k, 1))\n",
    "        indices = tf.concat([batch_indices, tf.expand_dims(topk_indices, axis=3)], axis=3)  # (N, P, K, 2)\n",
    "        return tf.gather_nd(features, indices)\n",
    "\n",
    "\n",
    "def edge_conv(points, features, num_points, K, channels, with_bn=True, activation='relu', pooling='average', name='edgeconv'):\n",
    "    \"\"\"EdgeConv\n",
    "    Args:\n",
    "        K: int, number of neighbors\n",
    "        in_channels: # of input channels\n",
    "        channels: tuple of output channels\n",
    "        pooling: pooling method ('max' or 'average')\n",
    "    Inputs:\n",
    "        points: (N, P, C_p)\n",
    "        features: (N, P, C_0)\n",
    "    Returns:\n",
    "        transformed points: (N, P, C_out), C_out = channels[-1]\n",
    "    \"\"\"\n",
    "\n",
    "    with tf.name_scope('edgeconv'):\n",
    "\n",
    "        # distance\n",
    "        D = batch_distance_matrix_general(points, points)  # (N, P, P)\n",
    "        _, indices = tf.nn.top_k(-D, k=K + 1)  # (N, P, K+1)\n",
    "        indices = indices[:, :, 1:]  # (N, P, K)\n",
    "\n",
    "        fts = features\n",
    "        knn_fts = knn(num_points, K, indices, fts)  # (N, P, K, C)\n",
    "        knn_fts_center = tf.tile(tf.expand_dims(fts, axis=2), (1, 1, K, 1))  # (N, P, K, C)\n",
    "        knn_fts = tf.concat([knn_fts_center, tf.subtract(knn_fts, knn_fts_center)], axis=-1)  # (N, P, K, 2*C)\n",
    "\n",
    "        x = knn_fts\n",
    "        for idx, channel in enumerate(channels):\n",
    "            x = keras.layers.Conv2D(channel, kernel_size=(1, 1), strides=1, data_format='channels_last',\n",
    "                                    use_bias=False if with_bn else True, kernel_initializer='glorot_normal', name='%s_conv%d' % (name, idx))(x)\n",
    "            if with_bn:\n",
    "                x = keras.layers.BatchNormalization(name='%s_bn%d' % (name, idx))(x)\n",
    "            if activation:\n",
    "                x = keras.layers.Activation(activation, name='%s_act%d' % (name, idx))(x)\n",
    "\n",
    "        if pooling == 'max':\n",
    "            fts = tf.reduce_max(x, axis=2)  # (N, P, C')\n",
    "        else:\n",
    "            fts = tf.reduce_mean(x, axis=2)  # (N, P, C')\n",
    "\n",
    "        # shortcut\n",
    "        sc = keras.layers.Conv2D(channels[-1], kernel_size=(1, 1), strides=1, data_format='channels_last',\n",
    "                                 use_bias=False if with_bn else True, kernel_initializer='glorot_normal', name='%s_sc_conv' % name)(tf.expand_dims(features, axis=2))\n",
    "        if with_bn:\n",
    "            sc = keras.layers.BatchNormalization(name='%s_sc_bn' % name)(sc)\n",
    "        sc = tf.squeeze(sc, axis=2)\n",
    "\n",
    "        if activation:\n",
    "            return keras.layers.Activation(activation, name='%s_sc_act' % name)(sc + fts)  # (N, P, C')\n",
    "        else:\n",
    "            return sc + fts\n",
    "\n",
    "\n",
    "def _particle_net_base(points, features=None, mask=None, setting=None, name='particle_net'):\n",
    "    # points : (N, P, C_coord)\n",
    "    # features:  (N, P, C_features), optional\n",
    "    # mask: (N, P, 1), optinal\n",
    "\n",
    "    with tf.name_scope(name):\n",
    "        if features is None:\n",
    "            features = points\n",
    "\n",
    "        if mask is not None:\n",
    "            mask = tf.cast(tf.not_equal(mask, 0), dtype='float32')  # 1 if valid\n",
    "            coord_shift = tf.multiply(999., tf.cast(tf.equal(mask, 0), dtype='float32'))  # make non-valid positions to 99\n",
    "\n",
    "        fts = tf.squeeze(keras.layers.BatchNormalization(name='%s_fts_bn' % name)(tf.expand_dims(features, axis=2)), axis=2)\n",
    "        for layer_idx, layer_param in enumerate(setting.conv_params):\n",
    "            K, channels = layer_param\n",
    "            pts = tf.add(coord_shift, points) if layer_idx == 0 else tf.add(coord_shift, fts)\n",
    "            fts = edge_conv(pts, fts, setting.num_points, K, channels, with_bn=True, activation='relu',\n",
    "                            pooling=setting.conv_pooling, name='%s_%s%d' % (name, 'EdgeConv', layer_idx))\n",
    "\n",
    "        if mask is not None:\n",
    "            fts = tf.multiply(fts, mask)\n",
    "\n",
    "        pool = tf.reduce_mean(fts, axis=1)  # (N, C)\n",
    "\n",
    "        if setting.fc_params is not None:\n",
    "            x = pool\n",
    "            for layer_idx, layer_param in enumerate(setting.fc_params):\n",
    "                units, drop_rate = layer_param\n",
    "                x = keras.layers.Dense(units, activation='relu')(x)\n",
    "                if drop_rate is not None and drop_rate > 0:\n",
    "                    x = keras.layers.Dropout(drop_rate)(x)\n",
    "            out = keras.layers.Dense(setting.num_class, activation='softmax')(x)\n",
    "            return out  # (N, num_classes)\n",
    "        else:\n",
    "            return pool\n",
    "\n",
    "\n",
    "class _DotDict:\n",
    "    pass\n",
    "\n",
    "\n",
    "def get_particle_net(num_classes, input_shapes):\n",
    "    r\"\"\"ParticleNet model from `\"ParticleNet: Jet Tagging via Particle Clouds\"\n",
    "    <https://arxiv.org/abs/1902.08570>`_ paper.\n",
    "    Parameters\n",
    "    ----------\n",
    "    num_classes : int\n",
    "        Number of output classes.\n",
    "    input_shapes : dict\n",
    "        The shapes of each input (`points`, `features`, `mask`).\n",
    "    \"\"\"\n",
    "    setting = _DotDict()\n",
    "    setting.num_class = num_classes\n",
    "    # conv_params: list of tuple in the format (K, (C1, C2, C3))\n",
    "    setting.conv_params = [\n",
    "        (16, (64, 64, 64)),\n",
    "        (16, (128, 128, 128)),\n",
    "        (16, (256, 256, 256)),\n",
    "        ]\n",
    "    # conv_pooling: 'average' or 'max'\n",
    "    setting.conv_pooling = 'average'\n",
    "    # fc_params: list of tuples in the format (C, drop_rate)\n",
    "    setting.fc_params = [(256, 0.1)]\n",
    "    setting.num_points = input_shapes['points'][0]\n",
    "\n",
    "    points = keras.Input(name='points', shape=input_shapes['points'])\n",
    "    features = keras.Input(name='features', shape=input_shapes['features']) if 'features' in input_shapes else None\n",
    "    mask = keras.Input(name='mask', shape=input_shapes['mask']) if 'mask' in input_shapes else None\n",
    "    outputs = _particle_net_base(points, features, mask, setting, name='ParticleNet')\n",
    "\n",
    "    return keras.Model(inputs=[points, features, mask], outputs=outputs, name='ParticleNet')\n",
    "\n",
    "\n",
    "def get_particle_net_lite(num_classes, input_shapes):\n",
    "    r\"\"\"ParticleNet-Lite model from `\"ParticleNet: Jet Tagging via Particle Clouds\"\n",
    "    <https://arxiv.org/abs/1902.08570>`_ paper.\n",
    "    Parameters\n",
    "    ----------\n",
    "    num_classes : int\n",
    "        Number of output classes.\n",
    "    input_shapes : dict\n",
    "        The shapes of each input (`points`, `features`, `mask`).\n",
    "    \"\"\"\n",
    "    setting = _DotDict()\n",
    "    setting.num_class = num_classes\n",
    "    # conv_params: list of tuple in the format (K, (C1, C2, C3))\n",
    "    setting.conv_params = [\n",
    "        (7, (32, 32, 32)),\n",
    "        (7, (64, 64, 64)),\n",
    "        ]\n",
    "    # conv_pooling: 'average' or 'max'\n",
    "    setting.conv_pooling = 'average'\n",
    "    # fc_params: list of tuples in the format (C, drop_rate)\n",
    "    setting.fc_params = [(128, 0.1)]\n",
    "    setting.num_points = input_shapes['points'][0]\n",
    "\n",
    "    points = keras.Input(name='points', shape=input_shapes['points'])\n",
    "    features = keras.Input(name='features', shape=input_shapes['features']) if 'features' in input_shapes else None\n",
    "    mask = keras.Input(name='mask', shape=input_shapes['mask']) if 'mask' in input_shapes else None\n",
    "    outputs = _particle_net_base(points, features, mask, setting, name='ParticleNet')\n",
    "\n",
    "    return keras.Model(inputs=[points, features, mask], outputs=outputs, name='ParticleNet')\n"
   ]
  },
  {
   "cell_type": "markdown",
   "metadata": {},
   "source": [
    "```\n",
    "end tf_keras_model.py\n",
    "```"
   ]
  },
  {
   "cell_type": "markdown",
   "metadata": {},
   "source": [
    "### Mount google drive for loading npz files"
   ]
  },
  {
   "cell_type": "code",
   "execution_count": null,
   "metadata": {},
   "outputs": [],
   "source": [
    "from google.colab import drive\n",
    "drive.mount('/content/drive')"
   ]
  },
  {
   "cell_type": "code",
   "execution_count": null,
   "metadata": {},
   "outputs": [],
   "source": [
    "srcDir = '/content/drive/MyDrive/data'"
   ]
  },
  {
   "cell_type": "code",
   "execution_count": 10,
   "metadata": {},
   "outputs": [],
   "source": [
    "train_filename = srcDir+'/jetConstTrain_overlap.npz'\n",
    "val_filename = srcDir+'/jetConstVal_overlap.npz'\n",
    "test_filename = srcDir+'/jetConstTest_overlap.npz'"
   ]
  },
  {
   "cell_type": "code",
   "execution_count": 12,
   "metadata": {},
   "outputs": [],
   "source": [
    "train_file = np.load(train_filename)\n",
    "val_file = np.load(val_filename)\n",
    "test_file = np.load(test_filename)"
   ]
  },
  {
   "cell_type": "code",
   "execution_count": 24,
   "metadata": {},
   "outputs": [],
   "source": [
    "points = ['eta', 'phi']\n",
    "features = ['pt', 'mass', 'thetalab', 'radiilab', 'zlab']\n",
    "mask = ['pt']"
   ]
  },
  {
   "cell_type": "code",
   "execution_count": 25,
   "metadata": {},
   "outputs": [],
   "source": [
    "points_array = np.stack([train_dataset2[k].squeeze() for k in points], axis=-1)\n",
    "features_array = np.stack([train_dataset2[k].squeeze() for k in features], axis=-1)\n",
    "mask_array = np.stack([train_dataset2[k].squeeze() for k in mask], axis=-1)\n",
    "\n",
    "points_array_v = np.stack([val_dataset2[k].squeeze() for k in points], axis=-1)\n",
    "features_array_v = np.stack([val_dataset2[k].squeeze() for k in features], axis=-1)\n",
    "mask_array_v = np.stack([val_dataset2[k].squeeze() for k in mask], axis=-1)\n",
    "\n",
    "points_array_t = np.stack([test_dataset2[k].squeeze() for k in points], axis=-1)\n",
    "features_array_t = np.stack([test_dataset2[k].squeeze() for k in features], axis=-1)\n",
    "mask_array_t = np.stack([test_dataset2[k].squeeze() for k in mask], axis=-1)"
   ]
  },
  {
   "cell_type": "code",
   "execution_count": 26,
   "metadata": {},
   "outputs": [
    {
     "name": "stdout",
     "output_type": "stream",
     "text": [
      "(8000, 10, 2)\n",
      "(8000, 10, 5)\n",
      "(8000, 10, 1)\n",
      "\n",
      "(8000, 10, 2)\n",
      "(8000, 10, 5)\n",
      "(8000, 10, 1)\n",
      "\n",
      "(4000, 10, 2)\n",
      "(4000, 10, 5)\n",
      "(4000, 10, 1)\n"
     ]
    }
   ],
   "source": [
    "print(points_array.shape)\n",
    "print(features_array.shape)\n",
    "print(mask_array.shape)\n",
    "print()\n",
    "print(points_array_v.shape)\n",
    "print(features_array_v.shape)\n",
    "print(mask_array_v.shape)\n",
    "print()\n",
    "print(points_array_t.shape)\n",
    "print(features_array_t.shape)\n",
    "print(mask_array_t.shape)"
   ]
  },
  {
   "cell_type": "code",
   "execution_count": 27,
   "metadata": {},
   "outputs": [],
   "source": [
    "train_dataset = {'points':points_array,\n",
    "                 'features':features_array,\n",
    "                 'mask':mask_array,\n",
    "                 'labels':train_dataset2['labels']\n",
    "                }\n",
    "\n",
    "val_dataset = {'points':points_array_v,\n",
    "               'features':features_array_v,\n",
    "               'mask':mask_array_v,\n",
    "               'labels':val_dataset2['labels']\n",
    "                }\n",
    "\n",
    "\n",
    "test_dataset = {'points':points_array_t,\n",
    "               'features':features_array_t,\n",
    "               'mask':mask_array_t,\n",
    "               'labels':test_dataset2['labels']\n",
    "                }"
   ]
  },
  {
   "cell_type": "code",
   "execution_count": 31,
   "metadata": {
    "scrolled": true
   },
   "outputs": [],
   "source": [
    "model_type = 'particle_net_lite' # choose between 'particle_net' and 'particle_net_lite'\n",
    "num_classes = train_dataset['labels'].shape[1]\n",
    "input_shapes = {k:train_dataset[k].shape[1:] for k in train_dataset if not 'labels' in k}\n",
    "if 'lite' in model_type:\n",
    "    model = get_particle_net_lite(num_classes, input_shapes)\n",
    "else:\n",
    "    model = get_particle_net(num_classes, input_shapes)"
   ]
  },
  {
   "cell_type": "code",
   "execution_count": 32,
   "metadata": {},
   "outputs": [],
   "source": [
    "# Training parameters\n",
    "batch_size = 1024 if 'lite' in model_type else 384\n",
    "epochs = 30"
   ]
  },
  {
   "cell_type": "code",
   "execution_count": 33,
   "metadata": {},
   "outputs": [],
   "source": [
    "def lr_schedule(epoch):\n",
    "    lr = 1e-3\n",
    "    if epoch > 10:\n",
    "        lr *= 0.1\n",
    "    elif epoch > 20:\n",
    "        lr *= 0.01\n",
    "    logging.info('Learning rate: %f'%lr)\n",
    "    return lr"
   ]
  },
  {
   "cell_type": "code",
   "execution_count": 34,
   "metadata": {
    "scrolled": false
   },
   "outputs": [
    {
     "name": "stderr",
     "output_type": "stream",
     "text": [
      "[2021-02-25 16:12:44,859] INFO: Learning rate: 0.001000\n"
     ]
    },
    {
     "name": "stdout",
     "output_type": "stream",
     "text": [
      "Model: \"ParticleNet\"\n",
      "__________________________________________________________________________________________________\n",
      "Layer (type)                    Output Shape         Param #     Connected to                     \n",
      "==================================================================================================\n",
      "mask (InputLayer)               [(None, 10, 1)]      0                                            \n",
      "__________________________________________________________________________________________________\n",
      "tf_op_layer_NotEqual (TensorFlo [(None, 10, 1)]      0           mask[0][0]                       \n",
      "__________________________________________________________________________________________________\n",
      "tf_op_layer_Cast (TensorFlowOpL [(None, 10, 1)]      0           tf_op_layer_NotEqual[0][0]       \n",
      "__________________________________________________________________________________________________\n",
      "tf_op_layer_Equal (TensorFlowOp [(None, 10, 1)]      0           tf_op_layer_Cast[0][0]           \n",
      "__________________________________________________________________________________________________\n",
      "tf_op_layer_Cast_1 (TensorFlowO [(None, 10, 1)]      0           tf_op_layer_Equal[0][0]          \n",
      "__________________________________________________________________________________________________\n",
      "tf_op_layer_Mul (TensorFlowOpLa [(None, 10, 1)]      0           tf_op_layer_Cast_1[0][0]         \n",
      "__________________________________________________________________________________________________\n",
      "points (InputLayer)             [(None, 10, 2)]      0                                            \n",
      "__________________________________________________________________________________________________\n",
      "tf_op_layer_Add (TensorFlowOpLa [(None, 10, 2)]      0           tf_op_layer_Mul[0][0]            \n",
      "                                                                 points[0][0]                     \n",
      "__________________________________________________________________________________________________\n",
      "features (InputLayer)           [(None, 10, 5)]      0                                            \n",
      "__________________________________________________________________________________________________\n",
      "tf_op_layer_transpose (TensorFl [(None, 2, 10)]      0           tf_op_layer_Add[0][0]            \n",
      "__________________________________________________________________________________________________\n",
      "tf_op_layer_ExpandDims (TensorF [(None, 10, 1, 5)]   0           features[0][0]                   \n",
      "__________________________________________________________________________________________________\n",
      "tf_op_layer_mul_1 (TensorFlowOp [(None, 10, 2)]      0           tf_op_layer_Add[0][0]            \n",
      "                                                                 tf_op_layer_Add[0][0]            \n",
      "__________________________________________________________________________________________________\n",
      "tf_op_layer_MatMul (TensorFlowO [(None, 10, 10)]     0           tf_op_layer_Add[0][0]            \n",
      "                                                                 tf_op_layer_transpose[0][0]      \n",
      "__________________________________________________________________________________________________\n",
      "tf_op_layer_mul_2 (TensorFlowOp [(None, 10, 2)]      0           tf_op_layer_Add[0][0]            \n",
      "                                                                 tf_op_layer_Add[0][0]            \n",
      "__________________________________________________________________________________________________\n",
      "ParticleNet_fts_bn (BatchNormal (None, 10, 1, 5)     20          tf_op_layer_ExpandDims[0][0]     \n",
      "__________________________________________________________________________________________________\n",
      "tf_op_layer_Sum (TensorFlowOpLa [(None, 10, 1)]      0           tf_op_layer_mul_1[0][0]          \n",
      "__________________________________________________________________________________________________\n",
      "tf_op_layer_mul_3 (TensorFlowOp [(None, 10, 10)]     0           tf_op_layer_MatMul[0][0]         \n",
      "__________________________________________________________________________________________________\n",
      "tf_op_layer_Sum_1 (TensorFlowOp [(None, 10, 1)]      0           tf_op_layer_mul_2[0][0]          \n",
      "__________________________________________________________________________________________________\n",
      "tf_op_layer_Squeeze (TensorFlow [(None, 10, 5)]      0           ParticleNet_fts_bn[0][0]         \n",
      "__________________________________________________________________________________________________\n",
      "tf_op_layer_sub (TensorFlowOpLa [(None, 10, 10)]     0           tf_op_layer_Sum[0][0]            \n",
      "                                                                 tf_op_layer_mul_3[0][0]          \n",
      "__________________________________________________________________________________________________\n",
      "tf_op_layer_transpose_1 (Tensor [(None, 1, 10)]      0           tf_op_layer_Sum_1[0][0]          \n",
      "__________________________________________________________________________________________________\n",
      "tf_op_layer_Shape (TensorFlowOp [(3,)]               0           tf_op_layer_Squeeze[0][0]        \n",
      "__________________________________________________________________________________________________\n",
      "tf_op_layer_add_1 (TensorFlowOp [(None, 10, 10)]     0           tf_op_layer_sub[0][0]            \n",
      "                                                                 tf_op_layer_transpose_1[0][0]    \n",
      "__________________________________________________________________________________________________\n",
      "tf_op_layer_strided_slice_1 (Te [()]                 0           tf_op_layer_Shape[0][0]          \n",
      "__________________________________________________________________________________________________\n",
      "tf_op_layer_Neg (TensorFlowOpLa [(None, 10, 10)]     0           tf_op_layer_add_1[0][0]          \n",
      "__________________________________________________________________________________________________\n",
      "tf_op_layer_range (TensorFlowOp [(None,)]            0           tf_op_layer_strided_slice_1[0][0]\n",
      "__________________________________________________________________________________________________\n",
      "tf_op_layer_TopKV2 (TensorFlowO [(None, 10, 8), (Non 0           tf_op_layer_Neg[0][0]            \n",
      "__________________________________________________________________________________________________\n",
      "tf_op_layer_Reshape (TensorFlow [(None, 1, 1, 1)]    0           tf_op_layer_range[0][0]          \n",
      "__________________________________________________________________________________________________\n",
      "tf_op_layer_strided_slice (Tens [(None, 10, 7)]      0           tf_op_layer_TopKV2[0][1]         \n",
      "__________________________________________________________________________________________________\n",
      "tf_op_layer_Tile (TensorFlowOpL [(None, 10, 7, 1)]   0           tf_op_layer_Reshape[0][0]        \n",
      "__________________________________________________________________________________________________\n",
      "tf_op_layer_ExpandDims_1 (Tenso [(None, 10, 7, 1)]   0           tf_op_layer_strided_slice[0][0]  \n",
      "__________________________________________________________________________________________________\n",
      "tf_op_layer_ExpandDims_2 (Tenso [(None, 10, 1, 5)]   0           tf_op_layer_Squeeze[0][0]        \n",
      "__________________________________________________________________________________________________\n",
      "tf_op_layer_concat (TensorFlowO [(None, 10, 7, 2)]   0           tf_op_layer_Tile[0][0]           \n",
      "                                                                 tf_op_layer_ExpandDims_1[0][0]   \n",
      "__________________________________________________________________________________________________\n",
      "tf_op_layer_Tile_1 (TensorFlowO [(None, 10, 7, 5)]   0           tf_op_layer_ExpandDims_2[0][0]   \n",
      "__________________________________________________________________________________________________\n",
      "tf_op_layer_GatherNd (TensorFlo [(None, 10, 7, 5)]   0           tf_op_layer_Squeeze[0][0]        \n",
      "                                                                 tf_op_layer_concat[0][0]         \n",
      "__________________________________________________________________________________________________\n",
      "tf_op_layer_Sub_1 (TensorFlowOp [(None, 10, 7, 5)]   0           tf_op_layer_GatherNd[0][0]       \n",
      "                                                                 tf_op_layer_Tile_1[0][0]         \n",
      "__________________________________________________________________________________________________\n",
      "tf_op_layer_concat_1 (TensorFlo [(None, 10, 7, 10)]  0           tf_op_layer_Tile_1[0][0]         \n",
      "                                                                 tf_op_layer_Sub_1[0][0]          \n",
      "__________________________________________________________________________________________________\n",
      "ParticleNet_EdgeConv0_conv0 (Co (None, 10, 7, 32)    320         tf_op_layer_concat_1[0][0]       \n",
      "__________________________________________________________________________________________________\n",
      "ParticleNet_EdgeConv0_bn0 (Batc (None, 10, 7, 32)    128         ParticleNet_EdgeConv0_conv0[0][0]\n",
      "__________________________________________________________________________________________________\n",
      "ParticleNet_EdgeConv0_act0 (Act (None, 10, 7, 32)    0           ParticleNet_EdgeConv0_bn0[0][0]  \n",
      "__________________________________________________________________________________________________\n",
      "ParticleNet_EdgeConv0_conv1 (Co (None, 10, 7, 32)    1024        ParticleNet_EdgeConv0_act0[0][0] \n",
      "__________________________________________________________________________________________________\n",
      "ParticleNet_EdgeConv0_bn1 (Batc (None, 10, 7, 32)    128         ParticleNet_EdgeConv0_conv1[0][0]\n",
      "__________________________________________________________________________________________________\n",
      "ParticleNet_EdgeConv0_act1 (Act (None, 10, 7, 32)    0           ParticleNet_EdgeConv0_bn1[0][0]  \n",
      "__________________________________________________________________________________________________\n",
      "tf_op_layer_ExpandDims_3 (Tenso [(None, 10, 1, 5)]   0           tf_op_layer_Squeeze[0][0]        \n",
      "__________________________________________________________________________________________________\n",
      "ParticleNet_EdgeConv0_conv2 (Co (None, 10, 7, 32)    1024        ParticleNet_EdgeConv0_act1[0][0] \n",
      "__________________________________________________________________________________________________\n",
      "ParticleNet_EdgeConv0_sc_conv ( (None, 10, 1, 32)    160         tf_op_layer_ExpandDims_3[0][0]   \n",
      "__________________________________________________________________________________________________\n",
      "ParticleNet_EdgeConv0_bn2 (Batc (None, 10, 7, 32)    128         ParticleNet_EdgeConv0_conv2[0][0]\n",
      "__________________________________________________________________________________________________\n",
      "ParticleNet_EdgeConv0_sc_bn (Ba (None, 10, 1, 32)    128         ParticleNet_EdgeConv0_sc_conv[0][\n",
      "__________________________________________________________________________________________________\n",
      "ParticleNet_EdgeConv0_act2 (Act (None, 10, 7, 32)    0           ParticleNet_EdgeConv0_bn2[0][0]  \n",
      "__________________________________________________________________________________________________\n",
      "tf_op_layer_Squeeze_1 (TensorFl [(None, 10, 32)]     0           ParticleNet_EdgeConv0_sc_bn[0][0]\n",
      "__________________________________________________________________________________________________\n",
      "tf_op_layer_Mean (TensorFlowOpL [(None, 10, 32)]     0           ParticleNet_EdgeConv0_act2[0][0] \n",
      "__________________________________________________________________________________________________\n",
      "tf_op_layer_add_2 (TensorFlowOp [(None, 10, 32)]     0           tf_op_layer_Squeeze_1[0][0]      \n",
      "                                                                 tf_op_layer_Mean[0][0]           \n",
      "__________________________________________________________________________________________________\n",
      "ParticleNet_EdgeConv0_sc_act (A (None, 10, 32)       0           tf_op_layer_add_2[0][0]          \n",
      "__________________________________________________________________________________________________\n",
      "tf_op_layer_Add_3 (TensorFlowOp [(None, 10, 32)]     0           tf_op_layer_Mul[0][0]            \n",
      "                                                                 ParticleNet_EdgeConv0_sc_act[0][0\n",
      "__________________________________________________________________________________________________\n",
      "tf_op_layer_transpose_2 (Tensor [(None, 32, 10)]     0           tf_op_layer_Add_3[0][0]          \n",
      "__________________________________________________________________________________________________\n",
      "tf_op_layer_mul_4 (TensorFlowOp [(None, 10, 32)]     0           tf_op_layer_Add_3[0][0]          \n",
      "                                                                 tf_op_layer_Add_3[0][0]          \n",
      "__________________________________________________________________________________________________\n",
      "tf_op_layer_MatMul_1 (TensorFlo [(None, 10, 10)]     0           tf_op_layer_Add_3[0][0]          \n",
      "                                                                 tf_op_layer_transpose_2[0][0]    \n",
      "__________________________________________________________________________________________________\n",
      "tf_op_layer_mul_5 (TensorFlowOp [(None, 10, 32)]     0           tf_op_layer_Add_3[0][0]          \n",
      "                                                                 tf_op_layer_Add_3[0][0]          \n",
      "__________________________________________________________________________________________________\n",
      "tf_op_layer_Sum_2 (TensorFlowOp [(None, 10, 1)]      0           tf_op_layer_mul_4[0][0]          \n",
      "__________________________________________________________________________________________________\n",
      "tf_op_layer_mul_6 (TensorFlowOp [(None, 10, 10)]     0           tf_op_layer_MatMul_1[0][0]       \n",
      "__________________________________________________________________________________________________\n",
      "tf_op_layer_Sum_3 (TensorFlowOp [(None, 10, 1)]      0           tf_op_layer_mul_5[0][0]          \n",
      "__________________________________________________________________________________________________\n",
      "tf_op_layer_sub_2 (TensorFlowOp [(None, 10, 10)]     0           tf_op_layer_Sum_2[0][0]          \n",
      "                                                                 tf_op_layer_mul_6[0][0]          \n",
      "__________________________________________________________________________________________________\n",
      "tf_op_layer_transpose_3 (Tensor [(None, 1, 10)]      0           tf_op_layer_Sum_3[0][0]          \n",
      "__________________________________________________________________________________________________\n",
      "tf_op_layer_Shape_1 (TensorFlow [(3,)]               0           ParticleNet_EdgeConv0_sc_act[0][0\n",
      "__________________________________________________________________________________________________\n",
      "tf_op_layer_add_4 (TensorFlowOp [(None, 10, 10)]     0           tf_op_layer_sub_2[0][0]          \n",
      "                                                                 tf_op_layer_transpose_3[0][0]    \n",
      "__________________________________________________________________________________________________\n",
      "tf_op_layer_strided_slice_3 (Te [()]                 0           tf_op_layer_Shape_1[0][0]        \n",
      "__________________________________________________________________________________________________\n",
      "tf_op_layer_Neg_1 (TensorFlowOp [(None, 10, 10)]     0           tf_op_layer_add_4[0][0]          \n",
      "__________________________________________________________________________________________________\n",
      "tf_op_layer_range_1 (TensorFlow [(None,)]            0           tf_op_layer_strided_slice_3[0][0]\n",
      "__________________________________________________________________________________________________\n",
      "tf_op_layer_TopKV2_1 (TensorFlo [(None, 10, 8), (Non 0           tf_op_layer_Neg_1[0][0]          \n",
      "__________________________________________________________________________________________________\n",
      "tf_op_layer_Reshape_1 (TensorFl [(None, 1, 1, 1)]    0           tf_op_layer_range_1[0][0]        \n",
      "__________________________________________________________________________________________________\n",
      "tf_op_layer_strided_slice_2 (Te [(None, 10, 7)]      0           tf_op_layer_TopKV2_1[0][1]       \n",
      "__________________________________________________________________________________________________\n",
      "tf_op_layer_Tile_2 (TensorFlowO [(None, 10, 7, 1)]   0           tf_op_layer_Reshape_1[0][0]      \n",
      "__________________________________________________________________________________________________\n",
      "tf_op_layer_ExpandDims_4 (Tenso [(None, 10, 7, 1)]   0           tf_op_layer_strided_slice_2[0][0]\n",
      "__________________________________________________________________________________________________\n",
      "tf_op_layer_ExpandDims_5 (Tenso [(None, 10, 1, 32)]  0           ParticleNet_EdgeConv0_sc_act[0][0\n",
      "__________________________________________________________________________________________________\n",
      "tf_op_layer_concat_2 (TensorFlo [(None, 10, 7, 2)]   0           tf_op_layer_Tile_2[0][0]         \n",
      "                                                                 tf_op_layer_ExpandDims_4[0][0]   \n",
      "__________________________________________________________________________________________________\n",
      "tf_op_layer_Tile_3 (TensorFlowO [(None, 10, 7, 32)]  0           tf_op_layer_ExpandDims_5[0][0]   \n",
      "__________________________________________________________________________________________________\n",
      "tf_op_layer_GatherNd_1 (TensorF [(None, 10, 7, 32)]  0           ParticleNet_EdgeConv0_sc_act[0][0\n",
      "                                                                 tf_op_layer_concat_2[0][0]       \n",
      "__________________________________________________________________________________________________\n",
      "tf_op_layer_Sub_3 (TensorFlowOp [(None, 10, 7, 32)]  0           tf_op_layer_GatherNd_1[0][0]     \n",
      "                                                                 tf_op_layer_Tile_3[0][0]         \n",
      "__________________________________________________________________________________________________\n",
      "tf_op_layer_concat_3 (TensorFlo [(None, 10, 7, 64)]  0           tf_op_layer_Tile_3[0][0]         \n",
      "                                                                 tf_op_layer_Sub_3[0][0]          \n",
      "__________________________________________________________________________________________________\n",
      "ParticleNet_EdgeConv1_conv0 (Co (None, 10, 7, 64)    4096        tf_op_layer_concat_3[0][0]       \n",
      "__________________________________________________________________________________________________\n",
      "ParticleNet_EdgeConv1_bn0 (Batc (None, 10, 7, 64)    256         ParticleNet_EdgeConv1_conv0[0][0]\n",
      "__________________________________________________________________________________________________\n",
      "ParticleNet_EdgeConv1_act0 (Act (None, 10, 7, 64)    0           ParticleNet_EdgeConv1_bn0[0][0]  \n",
      "__________________________________________________________________________________________________\n",
      "ParticleNet_EdgeConv1_conv1 (Co (None, 10, 7, 64)    4096        ParticleNet_EdgeConv1_act0[0][0] \n",
      "__________________________________________________________________________________________________\n",
      "ParticleNet_EdgeConv1_bn1 (Batc (None, 10, 7, 64)    256         ParticleNet_EdgeConv1_conv1[0][0]\n",
      "__________________________________________________________________________________________________\n",
      "ParticleNet_EdgeConv1_act1 (Act (None, 10, 7, 64)    0           ParticleNet_EdgeConv1_bn1[0][0]  \n",
      "__________________________________________________________________________________________________\n",
      "tf_op_layer_ExpandDims_6 (Tenso [(None, 10, 1, 32)]  0           ParticleNet_EdgeConv0_sc_act[0][0\n",
      "__________________________________________________________________________________________________\n",
      "ParticleNet_EdgeConv1_conv2 (Co (None, 10, 7, 64)    4096        ParticleNet_EdgeConv1_act1[0][0] \n",
      "__________________________________________________________________________________________________\n",
      "ParticleNet_EdgeConv1_sc_conv ( (None, 10, 1, 64)    2048        tf_op_layer_ExpandDims_6[0][0]   \n",
      "__________________________________________________________________________________________________\n",
      "ParticleNet_EdgeConv1_bn2 (Batc (None, 10, 7, 64)    256         ParticleNet_EdgeConv1_conv2[0][0]\n",
      "__________________________________________________________________________________________________\n",
      "ParticleNet_EdgeConv1_sc_bn (Ba (None, 10, 1, 64)    256         ParticleNet_EdgeConv1_sc_conv[0][\n",
      "__________________________________________________________________________________________________\n",
      "ParticleNet_EdgeConv1_act2 (Act (None, 10, 7, 64)    0           ParticleNet_EdgeConv1_bn2[0][0]  \n",
      "__________________________________________________________________________________________________\n",
      "tf_op_layer_Squeeze_2 (TensorFl [(None, 10, 64)]     0           ParticleNet_EdgeConv1_sc_bn[0][0]\n",
      "__________________________________________________________________________________________________\n",
      "tf_op_layer_Mean_1 (TensorFlowO [(None, 10, 64)]     0           ParticleNet_EdgeConv1_act2[0][0] \n",
      "__________________________________________________________________________________________________\n",
      "tf_op_layer_add_5 (TensorFlowOp [(None, 10, 64)]     0           tf_op_layer_Squeeze_2[0][0]      \n",
      "                                                                 tf_op_layer_Mean_1[0][0]         \n",
      "__________________________________________________________________________________________________\n",
      "ParticleNet_EdgeConv1_sc_act (A (None, 10, 64)       0           tf_op_layer_add_5[0][0]          \n",
      "__________________________________________________________________________________________________\n",
      "tf_op_layer_Mul_7 (TensorFlowOp [(None, 10, 64)]     0           ParticleNet_EdgeConv1_sc_act[0][0\n",
      "                                                                 tf_op_layer_Cast[0][0]           \n",
      "__________________________________________________________________________________________________\n",
      "tf_op_layer_Mean_2 (TensorFlowO [(None, 64)]         0           tf_op_layer_Mul_7[0][0]          \n",
      "__________________________________________________________________________________________________\n",
      "dense (Dense)                   (None, 128)          8320        tf_op_layer_Mean_2[0][0]         \n",
      "__________________________________________________________________________________________________\n",
      "dropout (Dropout)               (None, 128)          0           dense[0][0]                      \n",
      "__________________________________________________________________________________________________\n",
      "dense_1 (Dense)                 (None, 2)            258         dropout[0][0]                    \n",
      "==================================================================================================\n",
      "Total params: 26,998\n",
      "Trainable params: 26,220\n",
      "Non-trainable params: 778\n",
      "__________________________________________________________________________________________________\n"
     ]
    }
   ],
   "source": [
    "model.compile(loss='categorical_crossentropy',\n",
    "              optimizer=keras.optimizers.Adam(learning_rate=lr_schedule(0)),\n",
    "              metrics=['accuracy'])\n",
    "model.summary()"
   ]
  },
  {
   "cell_type": "code",
   "execution_count": 35,
   "metadata": {},
   "outputs": [
    {
     "name": "stdout",
     "output_type": "stream",
     "text": [
      "WARNING:tensorflow:`period` argument is deprecated. Please use `save_freq` to specify the frequency in number of samples seen.\n"
     ]
    },
    {
     "name": "stderr",
     "output_type": "stream",
     "text": [
      "[2021-02-25 16:12:44,958] WARNING: `period` argument is deprecated. Please use `save_freq` to specify the frequency in number of samples seen.\n"
     ]
    }
   ],
   "source": [
    "# Prepare model model saving directory.\n",
    "import os\n",
    "save_dir = '/content/drive/MyDrive/model_checkpoints/'\n",
    "model_name = 'model.h5'\n",
    "if not os.path.isdir(save_dir):\n",
    "    os.mkdir(save_dir)\n",
    "filepath = os.path.join(save_dir, model_name)\n",
    "\n",
    "# Prepare callbacks for model saving and for learning rate adjustment.\n",
    "checkpoint =keras.callbacks.ModelCheckpoint(filepath, monitor='val_loss', \n",
    "                                   verbose=1, save_best_only=True, \n",
    "                                   save_weights_only=False, mode='auto', \n",
    "                                   period=1)   \n",
    "\n",
    "lr_scheduler = keras.callbacks.LearningRateScheduler(lr_schedule)\n",
    "progress_bar = keras.callbacks.ProgbarLogger()\n",
    "callbacks = [checkpoint, lr_scheduler, progress_bar]"
   ]
  },
  {
   "cell_type": "code",
   "execution_count": 36,
   "metadata": {},
   "outputs": [],
   "source": [
    "X = {k:train_dataset[k]for k in train_dataset if not 'label' in k}\n",
    "Y = train_dataset['labels']\n",
    "\n",
    "Xval = {k:val_dataset[k]for k in val_dataset if not 'label' in k}\n",
    "Yval = val_dataset['labels']\n",
    "\n",
    "Xtest = {k:test_dataset[k]for k in test_dataset if not 'label' in k}\n",
    "Ytest = test_dataset['labels']"
   ]
  },
  {
   "cell_type": "code",
   "execution_count": 53,
   "metadata": {
    "scrolled": false
   },
   "outputs": [
    {
     "name": "stderr",
     "output_type": "stream",
     "text": [
      "[2021-02-25 16:17:44,855] INFO: Learning rate: 0.001000\n"
     ]
    },
    {
     "name": "stdout",
     "output_type": "stream",
     "text": [
      "Train on 8000 samples, validate on 8000 samples\n",
      "Epoch 1/20\n",
      "Epoch 1/20\n",
      "7168/8000 [=========================>....] - ETA: 0s - loss: 0.0111 - accuracy: 0.9990\n",
      "Epoch 00001: val_loss improved from 0.73227 to 0.65268, saving model to model_checkpoints/model.h5\n",
      "8000/8000 [==============================] - 2s 197us/sample - loss: 0.0108 - accuracy: 0.9990 - val_loss: 0.6527 - val_accuracy: 0.5000\n",
      "8000/8000 [==============================] - 2s 197us/sample - loss: 0.0108 - accuracy: 0.9990 - val_loss: 0.6527 - val_accuracy: 0.5000\n"
     ]
    },
    {
     "name": "stderr",
     "output_type": "stream",
     "text": [
      "[2021-02-25 16:17:46,435] INFO: Learning rate: 0.001000\n"
     ]
    },
    {
     "name": "stdout",
     "output_type": "stream",
     "text": [
      "Epoch 2/20\n",
      "Epoch 2/20\n",
      "7168/8000 [=========================>....] - ETA: 0s - loss: 0.0039 - accuracy: 0.9994\n",
      "Epoch 00002: val_loss improved from 0.65268 to 0.53679, saving model to model_checkpoints/model.h5\n",
      "8000/8000 [==============================] - 2s 194us/sample - loss: 0.0041 - accuracy: 0.9992 - val_loss: 0.5368 - val_accuracy: 0.5106\n",
      "8000/8000 [==============================] - 2s 195us/sample - loss: 0.0041 - accuracy: 0.9992 - val_loss: 0.5368 - val_accuracy: 0.5106\n"
     ]
    },
    {
     "name": "stderr",
     "output_type": "stream",
     "text": [
      "[2021-02-25 16:17:47,995] INFO: Learning rate: 0.001000\n"
     ]
    },
    {
     "name": "stdout",
     "output_type": "stream",
     "text": [
      "Epoch 3/20\n",
      "Epoch 3/20\n",
      "7168/8000 [=========================>....] - ETA: 0s - loss: 0.0023 - accuracy: 0.9994\n",
      "Epoch 00003: val_loss improved from 0.53679 to 0.41361, saving model to model_checkpoints/model.h5\n",
      "8000/8000 [==============================] - 2s 203us/sample - loss: 0.0023 - accuracy: 0.9994 - val_loss: 0.4136 - val_accuracy: 0.6593\n",
      "8000/8000 [==============================] - 2s 203us/sample - loss: 0.0023 - accuracy: 0.9994 - val_loss: 0.4136 - val_accuracy: 0.6593\n"
     ]
    },
    {
     "name": "stderr",
     "output_type": "stream",
     "text": [
      "[2021-02-25 16:17:49,622] INFO: Learning rate: 0.001000\n"
     ]
    },
    {
     "name": "stdout",
     "output_type": "stream",
     "text": [
      "Epoch 4/20\n",
      "Epoch 4/20\n",
      "7168/8000 [=========================>....] - ETA: 0s - loss: 0.0020 - accuracy: 0.9993\n",
      "Epoch 00004: val_loss improved from 0.41361 to 0.31135, saving model to model_checkpoints/model.h5\n",
      "8000/8000 [==============================] - 1s 185us/sample - loss: 0.0019 - accuracy: 0.9994 - val_loss: 0.3113 - val_accuracy: 0.8662\n",
      "8000/8000 [==============================] - 1s 185us/sample - loss: 0.0019 - accuracy: 0.9994 - val_loss: 0.3113 - val_accuracy: 0.8662\n"
     ]
    },
    {
     "name": "stderr",
     "output_type": "stream",
     "text": [
      "[2021-02-25 16:17:51,105] INFO: Learning rate: 0.001000\n"
     ]
    },
    {
     "name": "stdout",
     "output_type": "stream",
     "text": [
      "Epoch 5/20\n",
      "Epoch 5/20\n",
      "7168/8000 [=========================>....] - ETA: 0s - loss: 0.0013 - accuracy: 0.9997\n",
      "Epoch 00005: val_loss improved from 0.31135 to 0.22848, saving model to model_checkpoints/model.h5\n",
      "8000/8000 [==============================] - 2s 199us/sample - loss: 0.0014 - accuracy: 0.9996 - val_loss: 0.2285 - val_accuracy: 0.9671\n",
      "8000/8000 [==============================] - 2s 199us/sample - loss: 0.0014 - accuracy: 0.9996 - val_loss: 0.2285 - val_accuracy: 0.9671\n"
     ]
    },
    {
     "name": "stderr",
     "output_type": "stream",
     "text": [
      "[2021-02-25 16:17:52,698] INFO: Learning rate: 0.001000\n"
     ]
    },
    {
     "name": "stdout",
     "output_type": "stream",
     "text": [
      "Epoch 6/20\n",
      "Epoch 6/20\n",
      "7168/8000 [=========================>....] - ETA: 0s - loss: 0.0011 - accuracy: 0.9997\n",
      "Epoch 00006: val_loss improved from 0.22848 to 0.16568, saving model to model_checkpoints/model.h5\n",
      "8000/8000 [==============================] - 2s 208us/sample - loss: 0.0011 - accuracy: 0.9998 - val_loss: 0.1657 - val_accuracy: 0.9936\n",
      "8000/8000 [==============================] - 2s 209us/sample - loss: 0.0011 - accuracy: 0.9998 - val_loss: 0.1657 - val_accuracy: 0.9936\n"
     ]
    },
    {
     "name": "stderr",
     "output_type": "stream",
     "text": [
      "[2021-02-25 16:17:54,371] INFO: Learning rate: 0.001000\n"
     ]
    },
    {
     "name": "stdout",
     "output_type": "stream",
     "text": [
      "Epoch 7/20\n",
      "Epoch 7/20\n",
      "7168/8000 [=========================>....] - ETA: 0s - loss: 7.5633e-04 - accuracy: 0.9999\n",
      "Epoch 00007: val_loss improved from 0.16568 to 0.11904, saving model to model_checkpoints/model.h5\n",
      "8000/8000 [==============================] - 2s 204us/sample - loss: 8.2265e-04 - accuracy: 0.9999 - val_loss: 0.1190 - val_accuracy: 0.9991\n",
      "8000/8000 [==============================] - 2s 204us/sample - loss: 8.2265e-04 - accuracy: 0.9999 - val_loss: 0.1190 - val_accuracy: 0.9991\n"
     ]
    },
    {
     "name": "stderr",
     "output_type": "stream",
     "text": [
      "[2021-02-25 16:17:56,008] INFO: Learning rate: 0.001000\n"
     ]
    },
    {
     "name": "stdout",
     "output_type": "stream",
     "text": [
      "Epoch 8/20\n",
      "Epoch 8/20\n",
      "7168/8000 [=========================>....] - ETA: 0s - loss: 7.7067e-04 - accuracy: 0.9999\n",
      "Epoch 00008: val_loss improved from 0.11904 to 0.08618, saving model to model_checkpoints/model.h5\n",
      "8000/8000 [==============================] - 2s 197us/sample - loss: 7.4276e-04 - accuracy: 0.9999 - val_loss: 0.0862 - val_accuracy: 0.9998\n",
      "8000/8000 [==============================] - 2s 197us/sample - loss: 7.4276e-04 - accuracy: 0.9999 - val_loss: 0.0862 - val_accuracy: 0.9998\n"
     ]
    },
    {
     "name": "stderr",
     "output_type": "stream",
     "text": [
      "[2021-02-25 16:17:57,585] INFO: Learning rate: 0.001000\n"
     ]
    },
    {
     "name": "stdout",
     "output_type": "stream",
     "text": [
      "Epoch 9/20\n",
      "Epoch 9/20\n",
      "7168/8000 [=========================>....] - ETA: 0s - loss: 6.6496e-04 - accuracy: 0.9999\n",
      "Epoch 00009: val_loss improved from 0.08618 to 0.06422, saving model to model_checkpoints/model.h5\n",
      "8000/8000 [==============================] - 2s 193us/sample - loss: 7.1115e-04 - accuracy: 0.9999 - val_loss: 0.0642 - val_accuracy: 0.9999\n",
      "8000/8000 [==============================] - 2s 193us/sample - loss: 7.1115e-04 - accuracy: 0.9999 - val_loss: 0.0642 - val_accuracy: 0.9999\n"
     ]
    },
    {
     "name": "stderr",
     "output_type": "stream",
     "text": [
      "[2021-02-25 16:17:59,136] INFO: Learning rate: 0.001000\n"
     ]
    },
    {
     "name": "stdout",
     "output_type": "stream",
     "text": [
      "Epoch 10/20\n",
      "Epoch 10/20\n",
      "7168/8000 [=========================>....] - ETA: 0s - loss: 5.9245e-04 - accuracy: 1.0000\n",
      "Epoch 00010: val_loss improved from 0.06422 to 0.04987, saving model to model_checkpoints/model.h5\n",
      "8000/8000 [==============================] - 2s 206us/sample - loss: 5.8624e-04 - accuracy: 1.0000 - val_loss: 0.0499 - val_accuracy: 0.9995\n",
      "8000/8000 [==============================] - 2s 206us/sample - loss: 5.8624e-04 - accuracy: 1.0000 - val_loss: 0.0499 - val_accuracy: 0.9995\n"
     ]
    },
    {
     "name": "stderr",
     "output_type": "stream",
     "text": [
      "[2021-02-25 16:18:00,790] INFO: Learning rate: 0.001000\n"
     ]
    },
    {
     "name": "stdout",
     "output_type": "stream",
     "text": [
      "Epoch 11/20\n",
      "Epoch 11/20\n",
      "7168/8000 [=========================>....] - ETA: 0s - loss: 4.4887e-04 - accuracy: 1.0000\n",
      "Epoch 00011: val_loss improved from 0.04987 to 0.04039, saving model to model_checkpoints/model.h5\n",
      "8000/8000 [==============================] - 2s 196us/sample - loss: 4.3314e-04 - accuracy: 1.0000 - val_loss: 0.0404 - val_accuracy: 0.9994\n",
      "8000/8000 [==============================] - 2s 196us/sample - loss: 4.3314e-04 - accuracy: 1.0000 - val_loss: 0.0404 - val_accuracy: 0.9994\n"
     ]
    },
    {
     "name": "stderr",
     "output_type": "stream",
     "text": [
      "[2021-02-25 16:18:02,365] INFO: Learning rate: 0.000100\n"
     ]
    },
    {
     "name": "stdout",
     "output_type": "stream",
     "text": [
      "Epoch 12/20\n",
      "Epoch 12/20\n",
      "7168/8000 [=========================>....] - ETA: 0s - loss: 3.9072e-04 - accuracy: 1.0000\n",
      "Epoch 00012: val_loss improved from 0.04039 to 0.03530, saving model to model_checkpoints/model.h5\n",
      "8000/8000 [==============================] - 2s 206us/sample - loss: 3.9672e-04 - accuracy: 1.0000 - val_loss: 0.0353 - val_accuracy: 0.9991\n",
      "8000/8000 [==============================] - 2s 206us/sample - loss: 3.9672e-04 - accuracy: 1.0000 - val_loss: 0.0353 - val_accuracy: 0.9991\n"
     ]
    },
    {
     "name": "stderr",
     "output_type": "stream",
     "text": [
      "[2021-02-25 16:18:04,016] INFO: Learning rate: 0.000100\n"
     ]
    },
    {
     "name": "stdout",
     "output_type": "stream",
     "text": [
      "Epoch 13/20\n",
      "Epoch 13/20\n",
      "7168/8000 [=========================>....] - ETA: 0s - loss: 4.9522e-04 - accuracy: 1.0000\n",
      "Epoch 00013: val_loss improved from 0.03530 to 0.03189, saving model to model_checkpoints/model.h5\n",
      "8000/8000 [==============================] - 2s 197us/sample - loss: 4.8060e-04 - accuracy: 1.0000 - val_loss: 0.0319 - val_accuracy: 0.9987\n",
      "8000/8000 [==============================] - 2s 197us/sample - loss: 4.8060e-04 - accuracy: 1.0000 - val_loss: 0.0319 - val_accuracy: 0.9987\n"
     ]
    },
    {
     "name": "stderr",
     "output_type": "stream",
     "text": [
      "[2021-02-25 16:18:05,594] INFO: Learning rate: 0.000100\n"
     ]
    },
    {
     "name": "stdout",
     "output_type": "stream",
     "text": [
      "Epoch 14/20\n",
      "Epoch 14/20\n",
      "7168/8000 [=========================>....] - ETA: 0s - loss: 4.0438e-04 - accuracy: 1.0000\n",
      "Epoch 00014: val_loss improved from 0.03189 to 0.02942, saving model to model_checkpoints/model.h5\n",
      "8000/8000 [==============================] - 2s 202us/sample - loss: 5.8010e-04 - accuracy: 0.9999 - val_loss: 0.0294 - val_accuracy: 0.9979\n",
      "8000/8000 [==============================] - 2s 202us/sample - loss: 5.8010e-04 - accuracy: 0.9999 - val_loss: 0.0294 - val_accuracy: 0.9979\n"
     ]
    },
    {
     "name": "stderr",
     "output_type": "stream",
     "text": [
      "[2021-02-25 16:18:07,213] INFO: Learning rate: 0.000100\n"
     ]
    },
    {
     "name": "stdout",
     "output_type": "stream",
     "text": [
      "Epoch 15/20\n",
      "Epoch 15/20\n",
      "7168/8000 [=========================>....] - ETA: 0s - loss: 5.7766e-04 - accuracy: 0.9999\n",
      "Epoch 00015: val_loss improved from 0.02942 to 0.02751, saving model to model_checkpoints/model.h5\n",
      "8000/8000 [==============================] - 2s 202us/sample - loss: 5.5411e-04 - accuracy: 0.9999 - val_loss: 0.0275 - val_accuracy: 0.9974\n",
      "8000/8000 [==============================] - 2s 202us/sample - loss: 5.5411e-04 - accuracy: 0.9999 - val_loss: 0.0275 - val_accuracy: 0.9974\n"
     ]
    },
    {
     "name": "stderr",
     "output_type": "stream",
     "text": [
      "[2021-02-25 16:18:08,834] INFO: Learning rate: 0.000100\n"
     ]
    },
    {
     "name": "stdout",
     "output_type": "stream",
     "text": [
      "Epoch 16/20\n",
      "Epoch 16/20\n",
      "7168/8000 [=========================>....] - ETA: 0s - loss: 3.7654e-04 - accuracy: 1.0000\n",
      "Epoch 00016: val_loss improved from 0.02751 to 0.02590, saving model to model_checkpoints/model.h5\n",
      "8000/8000 [==============================] - 2s 201us/sample - loss: 3.7972e-04 - accuracy: 1.0000 - val_loss: 0.0259 - val_accuracy: 0.9971\n",
      "8000/8000 [==============================] - 2s 201us/sample - loss: 3.7972e-04 - accuracy: 1.0000 - val_loss: 0.0259 - val_accuracy: 0.9971\n"
     ]
    },
    {
     "name": "stderr",
     "output_type": "stream",
     "text": [
      "[2021-02-25 16:18:10,449] INFO: Learning rate: 0.000100\n"
     ]
    },
    {
     "name": "stdout",
     "output_type": "stream",
     "text": [
      "Epoch 17/20\n",
      "Epoch 17/20\n",
      "7168/8000 [=========================>....] - ETA: 0s - loss: 3.2743e-04 - accuracy: 1.0000\n",
      "Epoch 00017: val_loss improved from 0.02590 to 0.02447, saving model to model_checkpoints/model.h5\n",
      "8000/8000 [==============================] - 2s 205us/sample - loss: 3.3694e-04 - accuracy: 1.0000 - val_loss: 0.0245 - val_accuracy: 0.9970\n",
      "8000/8000 [==============================] - 2s 205us/sample - loss: 3.3694e-04 - accuracy: 1.0000 - val_loss: 0.0245 - val_accuracy: 0.9970\n"
     ]
    },
    {
     "name": "stderr",
     "output_type": "stream",
     "text": [
      "[2021-02-25 16:18:12,092] INFO: Learning rate: 0.000100\n"
     ]
    },
    {
     "name": "stdout",
     "output_type": "stream",
     "text": [
      "Epoch 18/20\n",
      "Epoch 18/20\n",
      "7168/8000 [=========================>....] - ETA: 0s - loss: 3.7970e-04 - accuracy: 1.0000\n",
      "Epoch 00018: val_loss improved from 0.02447 to 0.02312, saving model to model_checkpoints/model.h5\n",
      "8000/8000 [==============================] - 2s 203us/sample - loss: 3.8256e-04 - accuracy: 1.0000 - val_loss: 0.0231 - val_accuracy: 0.9969\n",
      "8000/8000 [==============================] - 2s 203us/sample - loss: 3.8256e-04 - accuracy: 1.0000 - val_loss: 0.0231 - val_accuracy: 0.9969\n"
     ]
    },
    {
     "name": "stderr",
     "output_type": "stream",
     "text": [
      "[2021-02-25 16:18:13,720] INFO: Learning rate: 0.000100\n"
     ]
    },
    {
     "name": "stdout",
     "output_type": "stream",
     "text": [
      "Epoch 19/20\n",
      "Epoch 19/20\n",
      "7168/8000 [=========================>....] - ETA: 0s - loss: 4.3742e-04 - accuracy: 1.0000\n",
      "Epoch 00019: val_loss improved from 0.02312 to 0.02182, saving model to model_checkpoints/model.h5\n",
      "8000/8000 [==============================] - 2s 206us/sample - loss: 4.1969e-04 - accuracy: 1.0000 - val_loss: 0.0218 - val_accuracy: 0.9967\n",
      "8000/8000 [==============================] - 2s 206us/sample - loss: 4.1969e-04 - accuracy: 1.0000 - val_loss: 0.0218 - val_accuracy: 0.9967\n"
     ]
    },
    {
     "name": "stderr",
     "output_type": "stream",
     "text": [
      "[2021-02-25 16:18:15,370] INFO: Learning rate: 0.000100\n"
     ]
    },
    {
     "name": "stdout",
     "output_type": "stream",
     "text": [
      "Epoch 20/20\n",
      "Epoch 20/20\n",
      "7168/8000 [=========================>....] - ETA: 0s - loss: 4.1560e-04 - accuracy: 1.0000\n",
      "Epoch 00020: val_loss improved from 0.02182 to 0.02051, saving model to model_checkpoints/model.h5\n",
      "8000/8000 [==============================] - 2s 202us/sample - loss: 4.1877e-04 - accuracy: 1.0000 - val_loss: 0.0205 - val_accuracy: 0.9967\n",
      "8000/8000 [==============================] - 2s 202us/sample - loss: 4.1877e-04 - accuracy: 1.0000 - val_loss: 0.0205 - val_accuracy: 0.9967\n"
     ]
    },
    {
     "data": {
      "text/plain": [
       "<tensorflow.python.keras.callbacks.History at 0x7f76340cf518>"
      ]
     },
     "execution_count": 53,
     "metadata": {},
     "output_type": "execute_result"
    }
   ],
   "source": [
    "# train_dataset.shuffle()\n",
    "model.fit(X, Y,\n",
    "          batch_size=batch_size,\n",
    "#           epochs=epochs,\n",
    "          epochs=1, # --- train only for 1 epoch here for demonstration ---\n",
    "          validation_data=(Xval, Yval),\n",
    "          shuffle=True,\n",
    "          callbacks=callbacks)"
   ]
  },
  {
   "cell_type": "code",
   "execution_count": 54,
   "metadata": {},
   "outputs": [
    {
     "name": "stdout",
     "output_type": "stream",
     "text": [
      "model.h5\r\n"
     ]
    }
   ],
   "source": [
    "!ls model_checkpoints"
   ]
  },
  {
   "cell_type": "markdown",
   "metadata": {},
   "source": [
    "## Load Modle"
   ]
  },
  {
   "cell_type": "code",
   "execution_count": 55,
   "metadata": {
    "scrolled": false
   },
   "outputs": [
    {
     "name": "stdout",
     "output_type": "stream",
     "text": [
      "Model: \"ParticleNet\"\n",
      "__________________________________________________________________________________________________\n",
      "Layer (type)                    Output Shape         Param #     Connected to                     \n",
      "==================================================================================================\n",
      "mask (InputLayer)               [(None, 10, 1)]      0                                            \n",
      "__________________________________________________________________________________________________\n",
      "tf_op_layer_NotEqual (TensorFlo (None, 10, 1)        0           mask[0][0]                       \n",
      "__________________________________________________________________________________________________\n",
      "tf_op_layer_Cast (TensorFlowOpL (None, 10, 1)        0           tf_op_layer_NotEqual[0][0]       \n",
      "__________________________________________________________________________________________________\n",
      "tf_op_layer_Equal (TensorFlowOp (None, 10, 1)        0           tf_op_layer_Cast[0][0]           \n",
      "__________________________________________________________________________________________________\n",
      "tf_op_layer_Cast_1 (TensorFlowO (None, 10, 1)        0           tf_op_layer_Equal[0][0]          \n",
      "__________________________________________________________________________________________________\n",
      "tf_op_layer_Mul (TensorFlowOpLa (None, 10, 1)        0           tf_op_layer_Cast_1[0][0]         \n",
      "__________________________________________________________________________________________________\n",
      "points (InputLayer)             [(None, 10, 2)]      0                                            \n",
      "__________________________________________________________________________________________________\n",
      "tf_op_layer_Add (TensorFlowOpLa (None, 10, 2)        0           tf_op_layer_Mul[0][0]            \n",
      "                                                                 points[0][0]                     \n",
      "__________________________________________________________________________________________________\n",
      "features (InputLayer)           [(None, 10, 5)]      0                                            \n",
      "__________________________________________________________________________________________________\n",
      "tf_op_layer_transpose (TensorFl (None, 2, 10)        0           tf_op_layer_Add[0][0]            \n",
      "__________________________________________________________________________________________________\n",
      "tf_op_layer_ExpandDims (TensorF (None, 10, 1, 5)     0           features[0][0]                   \n",
      "__________________________________________________________________________________________________\n",
      "tf_op_layer_mul_1 (TensorFlowOp (None, 10, 2)        0           tf_op_layer_Add[0][0]            \n",
      "                                                                 tf_op_layer_Add[0][0]            \n",
      "__________________________________________________________________________________________________\n",
      "tf_op_layer_MatMul (TensorFlowO (None, 10, 10)       0           tf_op_layer_Add[0][0]            \n",
      "                                                                 tf_op_layer_transpose[0][0]      \n",
      "__________________________________________________________________________________________________\n",
      "tf_op_layer_mul_2 (TensorFlowOp (None, 10, 2)        0           tf_op_layer_Add[0][0]            \n",
      "                                                                 tf_op_layer_Add[0][0]            \n",
      "__________________________________________________________________________________________________\n",
      "ParticleNet_fts_bn (BatchNormal (None, 10, 1, 5)     20          tf_op_layer_ExpandDims[0][0]     \n",
      "__________________________________________________________________________________________________\n",
      "tf_op_layer_Sum (TensorFlowOpLa (None, 10, 1)        0           tf_op_layer_mul_1[0][0]          \n",
      "__________________________________________________________________________________________________\n",
      "tf_op_layer_mul_3 (TensorFlowOp (None, 10, 10)       0           tf_op_layer_MatMul[0][0]         \n",
      "__________________________________________________________________________________________________\n",
      "tf_op_layer_Sum_1 (TensorFlowOp (None, 10, 1)        0           tf_op_layer_mul_2[0][0]          \n",
      "__________________________________________________________________________________________________\n",
      "tf_op_layer_Squeeze (TensorFlow (None, 10, 5)        0           ParticleNet_fts_bn[0][0]         \n",
      "__________________________________________________________________________________________________\n",
      "tf_op_layer_sub (TensorFlowOpLa (None, 10, 10)       0           tf_op_layer_Sum[0][0]            \n",
      "                                                                 tf_op_layer_mul_3[0][0]          \n",
      "__________________________________________________________________________________________________\n",
      "tf_op_layer_transpose_1 (Tensor (None, 1, 10)        0           tf_op_layer_Sum_1[0][0]          \n",
      "__________________________________________________________________________________________________\n",
      "tf_op_layer_Shape (TensorFlowOp (3,)                 0           tf_op_layer_Squeeze[0][0]        \n",
      "__________________________________________________________________________________________________\n",
      "tf_op_layer_add_1 (TensorFlowOp (None, 10, 10)       0           tf_op_layer_sub[0][0]            \n",
      "                                                                 tf_op_layer_transpose_1[0][0]    \n",
      "__________________________________________________________________________________________________\n",
      "tf_op_layer_strided_slice_1 (Te ()                   0           tf_op_layer_Shape[0][0]          \n",
      "__________________________________________________________________________________________________\n",
      "tf_op_layer_Neg (TensorFlowOpLa (None, 10, 10)       0           tf_op_layer_add_1[0][0]          \n",
      "__________________________________________________________________________________________________\n",
      "tf_op_layer_range (TensorFlowOp (None,)              0           tf_op_layer_strided_slice_1[0][0]\n",
      "__________________________________________________________________________________________________\n",
      "tf_op_layer_TopKV2 (TensorFlowO [(None, 10, 8), (Non 0           tf_op_layer_Neg[0][0]            \n",
      "__________________________________________________________________________________________________\n",
      "tf_op_layer_Reshape (TensorFlow (None, 1, 1, 1)      0           tf_op_layer_range[0][0]          \n",
      "__________________________________________________________________________________________________\n",
      "tf_op_layer_strided_slice (Tens (None, 10, 7)        0           tf_op_layer_TopKV2[0][1]         \n",
      "__________________________________________________________________________________________________\n",
      "tf_op_layer_Tile (TensorFlowOpL (None, 10, 7, 1)     0           tf_op_layer_Reshape[0][0]        \n",
      "__________________________________________________________________________________________________\n",
      "tf_op_layer_ExpandDims_1 (Tenso (None, 10, 7, 1)     0           tf_op_layer_strided_slice[0][0]  \n",
      "__________________________________________________________________________________________________\n",
      "tf_op_layer_ExpandDims_2 (Tenso (None, 10, 1, 5)     0           tf_op_layer_Squeeze[0][0]        \n",
      "__________________________________________________________________________________________________\n",
      "tf_op_layer_concat (TensorFlowO (None, 10, 7, 2)     0           tf_op_layer_Tile[0][0]           \n",
      "                                                                 tf_op_layer_ExpandDims_1[0][0]   \n",
      "__________________________________________________________________________________________________\n",
      "tf_op_layer_Tile_1 (TensorFlowO (None, 10, 7, 5)     0           tf_op_layer_ExpandDims_2[0][0]   \n",
      "__________________________________________________________________________________________________\n",
      "tf_op_layer_GatherNd (TensorFlo (None, 10, 7, 5)     0           tf_op_layer_Squeeze[0][0]        \n",
      "                                                                 tf_op_layer_concat[0][0]         \n",
      "__________________________________________________________________________________________________\n",
      "tf_op_layer_Sub_1 (TensorFlowOp (None, 10, 7, 5)     0           tf_op_layer_GatherNd[0][0]       \n",
      "                                                                 tf_op_layer_Tile_1[0][0]         \n",
      "__________________________________________________________________________________________________\n",
      "tf_op_layer_concat_1 (TensorFlo (None, 10, 7, 10)    0           tf_op_layer_Tile_1[0][0]         \n",
      "                                                                 tf_op_layer_Sub_1[0][0]          \n",
      "__________________________________________________________________________________________________\n",
      "ParticleNet_EdgeConv0_conv0 (Co (None, 10, 7, 32)    320         tf_op_layer_concat_1[0][0]       \n",
      "__________________________________________________________________________________________________\n",
      "ParticleNet_EdgeConv0_bn0 (Batc (None, 10, 7, 32)    128         ParticleNet_EdgeConv0_conv0[0][0]\n",
      "__________________________________________________________________________________________________\n",
      "ParticleNet_EdgeConv0_act0 (Act (None, 10, 7, 32)    0           ParticleNet_EdgeConv0_bn0[0][0]  \n",
      "__________________________________________________________________________________________________\n",
      "ParticleNet_EdgeConv0_conv1 (Co (None, 10, 7, 32)    1024        ParticleNet_EdgeConv0_act0[0][0] \n",
      "__________________________________________________________________________________________________\n",
      "ParticleNet_EdgeConv0_bn1 (Batc (None, 10, 7, 32)    128         ParticleNet_EdgeConv0_conv1[0][0]\n",
      "__________________________________________________________________________________________________\n",
      "ParticleNet_EdgeConv0_act1 (Act (None, 10, 7, 32)    0           ParticleNet_EdgeConv0_bn1[0][0]  \n",
      "__________________________________________________________________________________________________\n",
      "tf_op_layer_ExpandDims_3 (Tenso (None, 10, 1, 5)     0           tf_op_layer_Squeeze[0][0]        \n",
      "__________________________________________________________________________________________________\n",
      "ParticleNet_EdgeConv0_conv2 (Co (None, 10, 7, 32)    1024        ParticleNet_EdgeConv0_act1[0][0] \n",
      "__________________________________________________________________________________________________\n",
      "ParticleNet_EdgeConv0_sc_conv ( (None, 10, 1, 32)    160         tf_op_layer_ExpandDims_3[0][0]   \n",
      "__________________________________________________________________________________________________\n",
      "ParticleNet_EdgeConv0_bn2 (Batc (None, 10, 7, 32)    128         ParticleNet_EdgeConv0_conv2[0][0]\n",
      "__________________________________________________________________________________________________\n",
      "ParticleNet_EdgeConv0_sc_bn (Ba (None, 10, 1, 32)    128         ParticleNet_EdgeConv0_sc_conv[0][\n",
      "__________________________________________________________________________________________________\n",
      "ParticleNet_EdgeConv0_act2 (Act (None, 10, 7, 32)    0           ParticleNet_EdgeConv0_bn2[0][0]  \n",
      "__________________________________________________________________________________________________\n",
      "tf_op_layer_Squeeze_1 (TensorFl (None, 10, 32)       0           ParticleNet_EdgeConv0_sc_bn[0][0]\n",
      "__________________________________________________________________________________________________\n",
      "tf_op_layer_Mean (TensorFlowOpL (None, 10, 32)       0           ParticleNet_EdgeConv0_act2[0][0] \n",
      "__________________________________________________________________________________________________\n",
      "tf_op_layer_add_2 (TensorFlowOp (None, 10, 32)       0           tf_op_layer_Squeeze_1[0][0]      \n",
      "                                                                 tf_op_layer_Mean[0][0]           \n",
      "__________________________________________________________________________________________________\n",
      "ParticleNet_EdgeConv0_sc_act (A (None, 10, 32)       0           tf_op_layer_add_2[0][0]          \n",
      "__________________________________________________________________________________________________\n",
      "tf_op_layer_Add_3 (TensorFlowOp (None, 10, 32)       0           tf_op_layer_Mul[0][0]            \n",
      "                                                                 ParticleNet_EdgeConv0_sc_act[0][0\n",
      "__________________________________________________________________________________________________\n",
      "tf_op_layer_transpose_2 (Tensor (None, 32, 10)       0           tf_op_layer_Add_3[0][0]          \n",
      "__________________________________________________________________________________________________\n",
      "tf_op_layer_mul_4 (TensorFlowOp (None, 10, 32)       0           tf_op_layer_Add_3[0][0]          \n",
      "                                                                 tf_op_layer_Add_3[0][0]          \n",
      "__________________________________________________________________________________________________\n",
      "tf_op_layer_MatMul_1 (TensorFlo (None, 10, 10)       0           tf_op_layer_Add_3[0][0]          \n",
      "                                                                 tf_op_layer_transpose_2[0][0]    \n",
      "__________________________________________________________________________________________________\n",
      "tf_op_layer_mul_5 (TensorFlowOp (None, 10, 32)       0           tf_op_layer_Add_3[0][0]          \n",
      "                                                                 tf_op_layer_Add_3[0][0]          \n",
      "__________________________________________________________________________________________________\n",
      "tf_op_layer_Sum_2 (TensorFlowOp (None, 10, 1)        0           tf_op_layer_mul_4[0][0]          \n",
      "__________________________________________________________________________________________________\n",
      "tf_op_layer_mul_6 (TensorFlowOp (None, 10, 10)       0           tf_op_layer_MatMul_1[0][0]       \n",
      "__________________________________________________________________________________________________\n",
      "tf_op_layer_Sum_3 (TensorFlowOp (None, 10, 1)        0           tf_op_layer_mul_5[0][0]          \n",
      "__________________________________________________________________________________________________\n",
      "tf_op_layer_sub_2 (TensorFlowOp (None, 10, 10)       0           tf_op_layer_Sum_2[0][0]          \n",
      "                                                                 tf_op_layer_mul_6[0][0]          \n",
      "__________________________________________________________________________________________________\n",
      "tf_op_layer_transpose_3 (Tensor (None, 1, 10)        0           tf_op_layer_Sum_3[0][0]          \n",
      "__________________________________________________________________________________________________\n",
      "tf_op_layer_Shape_1 (TensorFlow (3,)                 0           ParticleNet_EdgeConv0_sc_act[0][0\n",
      "__________________________________________________________________________________________________\n",
      "tf_op_layer_add_4 (TensorFlowOp (None, 10, 10)       0           tf_op_layer_sub_2[0][0]          \n",
      "                                                                 tf_op_layer_transpose_3[0][0]    \n",
      "__________________________________________________________________________________________________\n",
      "tf_op_layer_strided_slice_3 (Te ()                   0           tf_op_layer_Shape_1[0][0]        \n",
      "__________________________________________________________________________________________________\n",
      "tf_op_layer_Neg_1 (TensorFlowOp (None, 10, 10)       0           tf_op_layer_add_4[0][0]          \n",
      "__________________________________________________________________________________________________\n",
      "tf_op_layer_range_1 (TensorFlow (None,)              0           tf_op_layer_strided_slice_3[0][0]\n",
      "__________________________________________________________________________________________________\n",
      "tf_op_layer_TopKV2_1 (TensorFlo [(None, 10, 8), (Non 0           tf_op_layer_Neg_1[0][0]          \n",
      "__________________________________________________________________________________________________\n",
      "tf_op_layer_Reshape_1 (TensorFl (None, 1, 1, 1)      0           tf_op_layer_range_1[0][0]        \n",
      "__________________________________________________________________________________________________\n",
      "tf_op_layer_strided_slice_2 (Te (None, 10, 7)        0           tf_op_layer_TopKV2_1[0][1]       \n",
      "__________________________________________________________________________________________________\n",
      "tf_op_layer_Tile_2 (TensorFlowO (None, 10, 7, 1)     0           tf_op_layer_Reshape_1[0][0]      \n",
      "__________________________________________________________________________________________________\n",
      "tf_op_layer_ExpandDims_4 (Tenso (None, 10, 7, 1)     0           tf_op_layer_strided_slice_2[0][0]\n",
      "__________________________________________________________________________________________________\n",
      "tf_op_layer_ExpandDims_5 (Tenso (None, 10, 1, 32)    0           ParticleNet_EdgeConv0_sc_act[0][0\n",
      "__________________________________________________________________________________________________\n",
      "tf_op_layer_concat_2 (TensorFlo (None, 10, 7, 2)     0           tf_op_layer_Tile_2[0][0]         \n",
      "                                                                 tf_op_layer_ExpandDims_4[0][0]   \n",
      "__________________________________________________________________________________________________\n",
      "tf_op_layer_Tile_3 (TensorFlowO (None, 10, 7, 32)    0           tf_op_layer_ExpandDims_5[0][0]   \n",
      "__________________________________________________________________________________________________\n",
      "tf_op_layer_GatherNd_1 (TensorF (None, 10, 7, 32)    0           ParticleNet_EdgeConv0_sc_act[0][0\n",
      "                                                                 tf_op_layer_concat_2[0][0]       \n",
      "__________________________________________________________________________________________________\n",
      "tf_op_layer_Sub_3 (TensorFlowOp (None, 10, 7, 32)    0           tf_op_layer_GatherNd_1[0][0]     \n",
      "                                                                 tf_op_layer_Tile_3[0][0]         \n",
      "__________________________________________________________________________________________________\n",
      "tf_op_layer_concat_3 (TensorFlo (None, 10, 7, 64)    0           tf_op_layer_Tile_3[0][0]         \n",
      "                                                                 tf_op_layer_Sub_3[0][0]          \n",
      "__________________________________________________________________________________________________\n",
      "ParticleNet_EdgeConv1_conv0 (Co (None, 10, 7, 64)    4096        tf_op_layer_concat_3[0][0]       \n",
      "__________________________________________________________________________________________________\n",
      "ParticleNet_EdgeConv1_bn0 (Batc (None, 10, 7, 64)    256         ParticleNet_EdgeConv1_conv0[0][0]\n",
      "__________________________________________________________________________________________________\n",
      "ParticleNet_EdgeConv1_act0 (Act (None, 10, 7, 64)    0           ParticleNet_EdgeConv1_bn0[0][0]  \n",
      "__________________________________________________________________________________________________\n",
      "ParticleNet_EdgeConv1_conv1 (Co (None, 10, 7, 64)    4096        ParticleNet_EdgeConv1_act0[0][0] \n",
      "__________________________________________________________________________________________________\n",
      "ParticleNet_EdgeConv1_bn1 (Batc (None, 10, 7, 64)    256         ParticleNet_EdgeConv1_conv1[0][0]\n",
      "__________________________________________________________________________________________________\n",
      "ParticleNet_EdgeConv1_act1 (Act (None, 10, 7, 64)    0           ParticleNet_EdgeConv1_bn1[0][0]  \n",
      "__________________________________________________________________________________________________\n",
      "tf_op_layer_ExpandDims_6 (Tenso (None, 10, 1, 32)    0           ParticleNet_EdgeConv0_sc_act[0][0\n",
      "__________________________________________________________________________________________________\n",
      "ParticleNet_EdgeConv1_conv2 (Co (None, 10, 7, 64)    4096        ParticleNet_EdgeConv1_act1[0][0] \n",
      "__________________________________________________________________________________________________\n",
      "ParticleNet_EdgeConv1_sc_conv ( (None, 10, 1, 64)    2048        tf_op_layer_ExpandDims_6[0][0]   \n",
      "__________________________________________________________________________________________________\n",
      "ParticleNet_EdgeConv1_bn2 (Batc (None, 10, 7, 64)    256         ParticleNet_EdgeConv1_conv2[0][0]\n",
      "__________________________________________________________________________________________________\n",
      "ParticleNet_EdgeConv1_sc_bn (Ba (None, 10, 1, 64)    256         ParticleNet_EdgeConv1_sc_conv[0][\n",
      "__________________________________________________________________________________________________\n",
      "ParticleNet_EdgeConv1_act2 (Act (None, 10, 7, 64)    0           ParticleNet_EdgeConv1_bn2[0][0]  \n",
      "__________________________________________________________________________________________________\n",
      "tf_op_layer_Squeeze_2 (TensorFl (None, 10, 64)       0           ParticleNet_EdgeConv1_sc_bn[0][0]\n",
      "__________________________________________________________________________________________________\n",
      "tf_op_layer_Mean_1 (TensorFlowO (None, 10, 64)       0           ParticleNet_EdgeConv1_act2[0][0] \n",
      "__________________________________________________________________________________________________\n",
      "tf_op_layer_add_5 (TensorFlowOp (None, 10, 64)       0           tf_op_layer_Squeeze_2[0][0]      \n",
      "                                                                 tf_op_layer_Mean_1[0][0]         \n",
      "__________________________________________________________________________________________________\n",
      "ParticleNet_EdgeConv1_sc_act (A (None, 10, 64)       0           tf_op_layer_add_5[0][0]          \n",
      "__________________________________________________________________________________________________\n",
      "tf_op_layer_Mul_7 (TensorFlowOp (None, 10, 64)       0           ParticleNet_EdgeConv1_sc_act[0][0\n",
      "                                                                 tf_op_layer_Cast[0][0]           \n",
      "__________________________________________________________________________________________________\n",
      "tf_op_layer_Mean_2 (TensorFlowO (None, 64)           0           tf_op_layer_Mul_7[0][0]          \n",
      "__________________________________________________________________________________________________\n",
      "dense (Dense)                   (None, 128)          8320        tf_op_layer_Mean_2[0][0]         \n",
      "__________________________________________________________________________________________________\n",
      "dropout (Dropout)               (None, 128)          0           dense[0][0]                      \n",
      "__________________________________________________________________________________________________\n",
      "dense_1 (Dense)                 (None, 2)            258         dropout[0][0]                    \n",
      "==================================================================================================\n",
      "Total params: 26,998\n",
      "Trainable params: 26,220\n",
      "Non-trainable params: 778\n",
      "__________________________________________________________________________________________________\n"
     ]
    },
    {
     "name": "stdout",
     "output_type": "stream",
     "text": [
      "4000/4000 [==============================] - 1s 305us/sample - loss: 0.0216 - accuracy: 0.9970\n",
      "[0.021632914781570433, 0.997]\n"
     ]
    }
   ],
   "source": [
    "best_model = keras.models.load_model(filepath)\n",
    "best_model.summary()\n",
    "results = best_model.evaluate(Xtest, Ytest)\n",
    "print(results)"
   ]
  },
  {
   "cell_type": "code",
   "execution_count": null,
   "metadata": {},
   "outputs": [],
   "source": []
  },
  {
   "cell_type": "markdown",
   "metadata": {},
   "source": [
    "## Plot ROC Curve"
   ]
  },
  {
   "cell_type": "code",
   "execution_count": 40,
   "metadata": {},
   "outputs": [],
   "source": [
    "\n",
    "predict = best_model.predict(Xtest)\n",
    "from sklearn.metrics import roc_curve, auc\n"
   ]
  },
  {
   "cell_type": "code",
   "execution_count": 64,
   "metadata": {},
   "outputs": [
    {
     "name": "stderr",
     "output_type": "stream",
     "text": [
      "[2021-02-25 16:21:40,521] INFO: generated new fontManager\n"
     ]
    }
   ],
   "source": [
    "import matplotlib.pyplot as plt"
   ]
  },
  {
   "cell_type": "code",
   "execution_count": null,
   "metadata": {},
   "outputs": [],
   "source": []
  },
  {
   "cell_type": "code",
   "execution_count": 67,
   "metadata": {},
   "outputs": [
    {
     "data": {
      "image/png": "[encoded data removed]",
      "text/plain": [
       "<Figure size 540x360 with 1 Axes>"
      ]
     },
     "metadata": {
      "needs_background": "light"
     },
     "output_type": "display_data"
    }
   ],
   "source": [
    "plt.rcParams['figure.dpi'] = 90\n",
    "fpr, tpr, thresholds = roc_curve(Ytest[:,1], predict[:,1])\n",
    "roc_auc = auc(fpr, tpr)\n",
    "plt.plot(fpr, tpr, lw=2, color='b', label='auc = %.3f' % (roc_auc))\n",
    "plt.plot([0, 1], [0, 1], linestyle='--', lw=2, color='k', label='random chance')\n",
    "plt.xlim([0, 1.0])\n",
    "plt.ylim([0, 1.0])\n",
    "plt.xlabel('false positive rate')\n",
    "plt.ylabel('true positive rate')\n",
    "plt.title('receiver operating curve')\n",
    "plt.legend(loc=\"lower right\")\n",
    "plt.savefig('ROC.png')\n",
    "# np.savez('ROC', fpr=fpr, tpr=tpr, auc=roc_auc)\n",
    "plt.show()"
   ]
  },
  {
   "cell_type": "code",
   "execution_count": null,
   "metadata": {},
   "outputs": [],
   "source": []
  },
  {
   "cell_type": "code",
   "execution_count": null,
   "metadata": {},
   "outputs": [],
   "source": []
  },
  {
   "cell_type": "code",
   "execution_count": null,
   "metadata": {},
   "outputs": [],
   "source": []
  }
 ],
 "metadata": {
  "kernelspec": {
   "display_name": "Python 3",
   "language": "python",
   "name": "python3"
  },
  "language_info": {
   "codemirror_mode": {
    "name": "ipython",
    "version": 3
   },
   "file_extension": ".py",
   "mimetype": "text/x-python",
   "name": "python",
   "nbconvert_exporter": "python",
   "pygments_lexer": "ipython3",
   "version": "3.6.8"
  }
 },
 "nbformat": 4,
 "nbformat_minor": 2
}
