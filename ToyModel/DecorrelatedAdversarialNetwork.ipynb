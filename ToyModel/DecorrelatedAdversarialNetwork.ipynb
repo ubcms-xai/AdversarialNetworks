{
 "cells": [
  {
   "cell_type": "code",
   "execution_count": 1,
   "id": "5d2068db",
   "metadata": {},
   "outputs": [
    {
     "name": "stdout",
     "output_type": "stream",
     "text": [
      "2.5.0\n"
     ]
    }
   ],
   "source": [
    "# TensorFlow and tf.keras\n",
    "import tensorflow as tf\n",
    "\n",
    "# Helper libraries\n",
    "import numpy as np\n",
    "import matplotlib.pyplot as plt\n",
    "from scipy.stats import poisson, norm, binned_statistic, gausshyper, invgauss\n",
    "import math\n",
    "import pandas as pd\n",
    "import time\n",
    "from functions import *\n",
    "\n",
    "print(tf.__version__)\n"
   ]
  },
  {
   "cell_type": "code",
   "execution_count": 2,
   "id": "c3a1425c",
   "metadata": {},
   "outputs": [],
   "source": [
    "start = time.time()"
   ]
  },
  {
   "cell_type": "code",
   "execution_count": 3,
   "id": "5a9e64ac",
   "metadata": {},
   "outputs": [],
   "source": [
    "class HParams(object):\n",
    "    def __init__(self):\n",
    "        self.nEpochs = 10\n",
    "        self.nUpdates_Adversary = 10\n",
    "        self.nUpdates_Classifier = 10\n",
    "        self.nodes = 32\n",
    "        self.batch_size = 256 #512\n",
    "        self.adversary_lr = 1.0\n",
    "        self.classifier_lr = 0.1\n",
    "        self.valSplit = 0.9\n",
    "        self.xBins = 4\n",
    "        self.Lambda = 1250\n",
    "\n",
    "# class HPARAMSEncoder(json.JSONEncoder):\n",
    "#         def default(self, o):\n",
    "#             return o.__dict__     \n",
    "\n",
    "HPARAMS = HParams()"
   ]
  },
  {
   "cell_type": "code",
   "execution_count": 4,
   "id": "8f2b72b1",
   "metadata": {},
   "outputs": [],
   "source": [
    "np.random.seed(938471893)"
   ]
  },
  {
   "cell_type": "code",
   "execution_count": 5,
   "id": "4a0826bb",
   "metadata": {},
   "outputs": [],
   "source": [
    "def normalize01(x):\n",
    "    norm = (x - np.min(x)) / (np.max(x) - np.min(x))\n",
    "    return norm"
   ]
  },
  {
   "cell_type": "code",
   "execution_count": 6,
   "id": "bac63081",
   "metadata": {},
   "outputs": [],
   "source": [
    "nEvents = 10000\n",
    "\n",
    "x1 = norm.rvs(size=nEvents)\n",
    "x2 = np.exp(np.random.rand(nEvents))\n",
    "\n",
    "z1 = 0.5*np.random.rand(nEvents)\n",
    "z2 = 1-0.5*np.random.rand(nEvents)\n",
    "\n",
    "\n",
    "\n",
    "x1 = np.random.normal(loc=0.1, scale=0.02, size=nEvents)\n",
    "x2 = np.random.exponential(scale=0.02, size=nEvents)\n",
    "\n",
    "# z1 = np.random.exponential(scale=0.18, size=nEvents)\n",
    "# z2 = np.random.exponential(scale=0.06, size=nEvents)\n",
    "\n",
    "z1 = 1-np.random.normal(loc = 0.01, scale=0.1, size=nEvents)\n",
    "z2 = 1-np.random.normal(loc = 0.2, scale=0.1, size=nEvents)\n",
    "\n",
    "# z1 = np.random.normal(loc=0.5, scale=0.02, size=nEvents) \n",
    "# z1 = np.random.normal(loc=0.5, scale=0.09, size=nEvents) #signal_z_littleoverlap\n",
    "\n",
    "# # z2 = np.random.exponential(loc=0.5, scale=0.09, size=nEvents) \n",
    "# z1 = np.random.exponential(scale=0.1, size=nEvents)\n",
    "# z2 = np.random.exponential(scale=0.1, size=nEvents) \n",
    "\n",
    "# # masking z to ensure z<1.0\n",
    "# z1 = np.where(z1<1.0, z1, z1%1) #signal_z   \n",
    "# # making so that z is always more than 1-z\n",
    "# z2 = np.where(z2>0.5, z2, (1-z2))\n",
    "\n",
    "\n",
    "\n",
    "# x1_norm = (x1-np.min(x1))/(np.max(x1)-np.min(x))\n",
    "# x2_norm = (b - np.min(b))/(np.max(b)-np.min(b))\n",
    "\n",
    "\n",
    "# z1_norm = (z1-np.min(s))/(np.max(z1)-np.min(z1))\n",
    "# z2_norm = (z2 - np.min(z2))/(np.max(z2)-np.min(z2))\n",
    "\n",
    "\n",
    "\n",
    "feat1 = normalize01(np.append(x1, x2))\n",
    "feat2 = normalize01(np.append(z1, z2))\n",
    "feat2 = np.append(z1, z2)\n",
    "\n",
    "labels1 = np.append(np.ones_like(x1), np.zeros_like(x2))\n",
    "\n",
    "idx = np.arange(len(feat1))\n",
    "\n",
    "np.random.shuffle(idx)\n",
    "\n",
    "feat1 = feat1[idx]\n",
    "feat2 = feat2[idx]\n",
    "labels1 = labels1[idx]\n",
    "\n",
    "feats = {'x': feat1,\n",
    "         'z': feat2,\n",
    "        }\n",
    "labels = ['x', 'z']\n"
   ]
  },
  {
   "cell_type": "code",
   "execution_count": 7,
   "id": "d80d299c",
   "metadata": {},
   "outputs": [
    {
     "data": {
      "image/png": "[encoded data removed]",
      "text/plain": [
       "<Figure size 432x288 with 1 Axes>"
      ]
     },
     "metadata": {
      "needs_background": "light"
     },
     "output_type": "display_data"
    },
    {
     "data": {
      "image/png": "[encoded data removed]",
      "text/plain": [
       "<Figure size 432x288 with 1 Axes>"
      ]
     },
     "metadata": {
      "needs_background": "light"
     },
     "output_type": "display_data"
    }
   ],
   "source": [
    "brange = np.linspace(0,1,21)\n",
    "plt.xlabel('x')\n",
    "plt.hist(feat1[labels1==1], alpha=0.5, bins=brange)\n",
    "plt.hist(feat1[labels1==0], alpha=0.5, bins=brange)\n",
    "plt.show()\n",
    "plt.xlabel('z')\n",
    "plt.hist(feat2[labels1==1], alpha=0.5, bins=brange)\n",
    "plt.hist(feat2[labels1==0], alpha=0.5, bins=brange)\n",
    "plt.show()"
   ]
  },
  {
   "cell_type": "code",
   "execution_count": 8,
   "id": "f535030a",
   "metadata": {},
   "outputs": [],
   "source": [
    "x = feats['x']\n",
    "z = feats['z']"
   ]
  },
  {
   "cell_type": "code",
   "execution_count": null,
   "id": "523d620d",
   "metadata": {},
   "outputs": [],
   "source": []
  },
  {
   "cell_type": "code",
   "execution_count": 9,
   "id": "893c933b",
   "metadata": {},
   "outputs": [
    {
     "name": "stderr",
     "output_type": "stream",
     "text": [
      "2022-02-15 09:58:18.832977: I tensorflow/core/platform/cpu_feature_guard.cc:142] This TensorFlow binary is optimized with oneAPI Deep Neural Network Library (oneDNN) to use the following CPU instructions in performance-critical operations:  AVX2 FMA\n",
      "To enable them in other operations, rebuild TensorFlow with the appropriate compiler flags.\n"
     ]
    }
   ],
   "source": [
    "xbins = [0, 0.25, 0.5, 0.75, 1.0]\n",
    "# xbins = [0, 1/3, 2/3, 1.0]\n",
    "bin_x = np.digitize(x, xbins) - 1\n",
    "bin_labels = tf.one_hot(bin_x, HPARAMS.xBins)"
   ]
  },
  {
   "cell_type": "code",
   "execution_count": null,
   "id": "8b077b65",
   "metadata": {},
   "outputs": [],
   "source": []
  },
  {
   "cell_type": "code",
   "execution_count": 10,
   "id": "ca457806",
   "metadata": {},
   "outputs": [
    {
     "data": {
      "text/plain": [
       "(array([8913., 3339., 6991.,  757.]),\n",
       " array([0., 1., 2., 3., 4.]),\n",
       " <BarContainer object of 4 artists>)"
      ]
     },
     "execution_count": 10,
     "metadata": {},
     "output_type": "execute_result"
    },
    {
     "data": {
      "image/png": "[encoded data removed]",
      "text/plain": [
       "<Figure size 432x288 with 1 Axes>"
      ]
     },
     "metadata": {
      "needs_background": "light"
     },
     "output_type": "display_data"
    }
   ],
   "source": [
    "plt.hist(bin_x, bins=HPARAMS.xBins)"
   ]
  },
  {
   "cell_type": "code",
   "execution_count": 11,
   "id": "05ebbabf",
   "metadata": {},
   "outputs": [
    {
     "name": "stdout",
     "output_type": "stream",
     "text": [
      "(20000, 4)\n",
      "(20000,)\n"
     ]
    }
   ],
   "source": [
    "print(bin_labels.shape)\n",
    "print(bin_x.shape)"
   ]
  },
  {
   "cell_type": "code",
   "execution_count": 12,
   "id": "89ebc06b",
   "metadata": {},
   "outputs": [],
   "source": [
    "y = labels1"
   ]
  },
  {
   "cell_type": "code",
   "execution_count": 13,
   "id": "77b131b6",
   "metadata": {},
   "outputs": [
    {
     "data": {
      "text/plain": [
       "(20000,)"
      ]
     },
     "execution_count": 13,
     "metadata": {},
     "output_type": "execute_result"
    }
   ],
   "source": [
    "feats['x'].shape"
   ]
  },
  {
   "cell_type": "code",
   "execution_count": 14,
   "id": "2b1a7f9f",
   "metadata": {},
   "outputs": [],
   "source": [
    "# https://www.tensorflow.org/guide/keras/writing_a_training_loop_from_scratch\n",
    "\n",
    "# Instantiate an optimizer.\n",
    "optimizer_adv = tf.keras.optimizers.SGD(learning_rate=HPARAMS.adversary_lr)\n",
    "optimizer_class = tf.keras.optimizers.SGD(learning_rate=HPARAMS.classifier_lr)\n",
    "\n",
    "# Instantiate a loss function.\n",
    "loss_fn = tf.keras.losses.SparseCategoricalCrossentropy(from_logits=True)\n",
    "\n",
    "# Reserve 10,000 samples for validation.\n",
    "# x_val = x_train[-10000:]\n",
    "# y_val = y_train[-10000:]\n",
    "x_train = {key: feats[key].reshape(len(feats[key]), 1) for key in feats.keys()}\n",
    "y_train = labels\n",
    "\n",
    "# Prepare the training dataset.\n",
    "train_dataset = tf.data.Dataset.from_tensor_slices((feats, y)).batch(HPARAMS.batch_size)\n",
    "\n",
    "# Prepare the validation dataset.\n",
    "# val_dataset = tf.data.Dataset.from_tensor_slices((x_val, y_val))\n",
    "# val_dataset = val_dataset.batch(batch_size)\n",
    "\n"
   ]
  },
  {
   "cell_type": "code",
   "execution_count": 15,
   "id": "ceacdd01",
   "metadata": {},
   "outputs": [],
   "source": [
    "train_dataset_adv = tf.data.Dataset.from_tensor_slices((bin_x, bin_labels)).batch(HPARAMS.batch_size)\n"
   ]
  },
  {
   "cell_type": "code",
   "execution_count": 16,
   "id": "9327831d",
   "metadata": {},
   "outputs": [],
   "source": [
    "def advLoss(y_true, y_pred):\n",
    "    \n",
    "    loss = tf.reduce_mean(tf.multiply(y_true, tf.math.log(y_pred)))\n",
    "    return tf.abs(loss)\n",
    "\n",
    "\n",
    "def classifierLoss(y_true, y_pred):\n",
    "    \n",
    "    loss = -1*tf.reduce_mean(tf.multiply(y_true, tf.math.log(y_pred)))\n",
    "    return loss\n",
    "    \n",
    "    "
   ]
  },
  {
   "cell_type": "code",
   "execution_count": 17,
   "id": "9ba8418d",
   "metadata": {},
   "outputs": [],
   "source": [
    "# advLoss(tf.constant([0,1], dtype=float), tf.constant([[0.25, 0.75], [0.25, 0.75]], dtype=float))"
   ]
  },
  {
   "cell_type": "code",
   "execution_count": 18,
   "id": "c5553cb6",
   "metadata": {},
   "outputs": [],
   "source": [
    "def getClassifier(name):\n",
    "    \n",
    "    inputs = [tf.keras.Input(shape=(1,), name=\"x\"),\n",
    "              tf.keras.Input(shape=(1,), name=\"z\"),\n",
    "             ]\n",
    "\n",
    "    x3 = tf.keras.layers.concatenate(inputs=inputs, axis=-1)\n",
    "\n",
    "\n",
    "    x4 = tf.keras.layers.Dense(HPARAMS.nodes, activation=\"relu\")(x3)\n",
    "    x5 = tf.keras.layers.Dense(HPARAMS.nodes, activation=\"relu\")(x4)\n",
    "\n",
    "    outputs = tf.keras.layers.Dense(2, name=\"predictions\")(x5)\n",
    "    model = tf.keras.Model(inputs=inputs, outputs=outputs, name=name)\n",
    "\n",
    "    return model\n",
    "\n",
    "\n",
    "\n",
    "def getAdversary(name):\n",
    "    \n",
    "    inputs =[tf.keras.Input(shape=(2,), name=\"classifier_output\"),\n",
    "             tf.keras.Input(shape=(1,), name=\"binned_x\"),\n",
    "             ]\n",
    "\n",
    "    \n",
    "    x = tf.keras.layers.concatenate(inputs=inputs, axis=-1)\n",
    "\n",
    "\n",
    "    x = tf.keras.layers.Dense(HPARAMS.nodes, activation=\"relu\")(x)\n",
    "    x = tf.keras.layers.Dense(HPARAMS.nodes, activation=\"relu\")(x)\n",
    "\n",
    "    outputs = tf.keras.layers.Dense(HPARAMS.xBins, name=\"predictions\")(x)\n",
    "    model = tf.keras.Model(inputs=inputs, outputs=outputs, name=name)\n",
    "\n",
    "    return model"
   ]
  },
  {
   "cell_type": "code",
   "execution_count": 19,
   "id": "c223754b",
   "metadata": {},
   "outputs": [],
   "source": [
    "classifierOnly = getClassifier('classifierOnly')\n",
    "classifier = getClassifier('classifier')\n",
    "adversary = getAdversary('adversary')"
   ]
  },
  {
   "cell_type": "code",
   "execution_count": 20,
   "id": "7476d12d",
   "metadata": {},
   "outputs": [
    {
     "name": "stdout",
     "output_type": "stream",
     "text": [
      "Model: \"classifier\"\n",
      "__________________________________________________________________________________________________\n",
      "Layer (type)                    Output Shape         Param #     Connected to                     \n",
      "==================================================================================================\n",
      "x (InputLayer)                  [(None, 1)]          0                                            \n",
      "__________________________________________________________________________________________________\n",
      "z (InputLayer)                  [(None, 1)]          0                                            \n",
      "__________________________________________________________________________________________________\n",
      "concatenate_1 (Concatenate)     (None, 2)            0           x[0][0]                          \n",
      "                                                                 z[0][0]                          \n",
      "__________________________________________________________________________________________________\n",
      "dense_2 (Dense)                 (None, 32)           96          concatenate_1[0][0]              \n",
      "__________________________________________________________________________________________________\n",
      "dense_3 (Dense)                 (None, 32)           1056        dense_2[0][0]                    \n",
      "__________________________________________________________________________________________________\n",
      "predictions (Dense)             (None, 2)            66          dense_3[0][0]                    \n",
      "==================================================================================================\n",
      "Total params: 1,218\n",
      "Trainable params: 1,218\n",
      "Non-trainable params: 0\n",
      "__________________________________________________________________________________________________\n"
     ]
    }
   ],
   "source": [
    "classifier.summary()"
   ]
  },
  {
   "cell_type": "code",
   "execution_count": 21,
   "id": "d75ea5bc",
   "metadata": {},
   "outputs": [
    {
     "name": "stdout",
     "output_type": "stream",
     "text": [
      "Model: \"adversary\"\n",
      "__________________________________________________________________________________________________\n",
      "Layer (type)                    Output Shape         Param #     Connected to                     \n",
      "==================================================================================================\n",
      "classifier_output (InputLayer)  [(None, 2)]          0                                            \n",
      "__________________________________________________________________________________________________\n",
      "binned_x (InputLayer)           [(None, 1)]          0                                            \n",
      "__________________________________________________________________________________________________\n",
      "concatenate_2 (Concatenate)     (None, 3)            0           classifier_output[0][0]          \n",
      "                                                                 binned_x[0][0]                   \n",
      "__________________________________________________________________________________________________\n",
      "dense_4 (Dense)                 (None, 32)           128         concatenate_2[0][0]              \n",
      "__________________________________________________________________________________________________\n",
      "dense_5 (Dense)                 (None, 32)           1056        dense_4[0][0]                    \n",
      "__________________________________________________________________________________________________\n",
      "predictions (Dense)             (None, 4)            132         dense_5[0][0]                    \n",
      "==================================================================================================\n",
      "Total params: 1,316\n",
      "Trainable params: 1,316\n",
      "Non-trainable params: 0\n",
      "__________________________________________________________________________________________________\n"
     ]
    }
   ],
   "source": [
    "adversary.summary()"
   ]
  },
  {
   "cell_type": "markdown",
   "id": "3ef1c971",
   "metadata": {},
   "source": [
    "## Train Classifier Only"
   ]
  },
  {
   "cell_type": "code",
   "execution_count": 22,
   "id": "696d3b8f",
   "metadata": {},
   "outputs": [
    {
     "name": "stdout",
     "output_type": "stream",
     "text": [
      "Epoch 0 loss_class = 0.2575\n",
      "Epoch 1 loss_class = 0.1184\n",
      "Epoch 2 loss_class = 0.0575\n",
      "Epoch 3 loss_class = 0.0370\n",
      "Epoch 4 loss_class = 0.0273\n",
      "Epoch 5 loss_class = 0.0223\n",
      "Epoch 6 loss_class = 0.0193\n",
      "Epoch 7 loss_class = 0.0174\n",
      "Epoch 8 loss_class = 0.0164\n",
      "Epoch 9 loss_class = 0.0157\n"
     ]
    }
   ],
   "source": [
    "epochs = 10\n",
    "\n",
    "\n",
    "for epoch in range(epochs):\n",
    "    \n",
    "    for step, (x_batch_train, y_batch_train) in enumerate(train_dataset):\n",
    "\n",
    "        with tf.GradientTape() as tape:\n",
    "            \n",
    "            logits = classifierOnly(x_batch_train, training=True)  # Logits for this minibatch\n",
    "            \n",
    "            loss_value = classifierLoss(tf.cast(np.array([1-y_batch_train, y_batch_train]).T, dtype=float),\n",
    "                                          tf.nn.softmax(logits))\n",
    "            \n",
    "        grads = tape.gradient(loss_value, classifierOnly.trainable_weights)\n",
    "     \n",
    "\n",
    "        optimizer_class.apply_gradients(zip(grads, classifierOnly.trainable_weights))\n",
    "        \n",
    "        \n",
    "\n",
    "    print('Epoch {0} loss_class = {1:0.4f}'.format(epoch, loss_value.numpy()))\n",
    "\n"
   ]
  },
  {
   "cell_type": "code",
   "execution_count": 23,
   "id": "7174c233",
   "metadata": {},
   "outputs": [],
   "source": [
    "logits = classifierOnly(feats)\n",
    "predict = tf.nn.softmax(logits)\n",
    "sig = y==1\n",
    "bkg = y==0"
   ]
  },
  {
   "cell_type": "code",
   "execution_count": 24,
   "id": "cddeecbe",
   "metadata": {},
   "outputs": [
    {
     "data": {
      "image/png": "[encoded data removed]",
      "text/plain": [
       "<Figure size 432x288 with 1 Axes>"
      ]
     },
     "metadata": {
      "needs_background": "light"
     },
     "output_type": "display_data"
    }
   ],
   "source": [
    "bins = np.linspace(0, 1, 20)\n",
    "\n",
    "plt.hist(predict[sig][:,1].numpy(), bins, alpha=0.5, label='Signal', density=True)\n",
    "plt.hist(predict[bkg][:,1].numpy(), bins, alpha=0.5, label='Background', density=True)\n",
    "# plt.ylim(0,25000)\n",
    "# plt.yscale('log')\n",
    "plt.legend(loc='upper center')\n",
    "plt.xlabel('Prediction')\n",
    "plt.ylabel('Density')\n",
    "plt.show()"
   ]
  },
  {
   "cell_type": "code",
   "execution_count": 25,
   "id": "fb381ef5",
   "metadata": {},
   "outputs": [
    {
     "data": {
      "image/png": "[encoded data removed]",
      "text/plain": [
       "<Figure size 432x288 with 1 Axes>"
      ]
     },
     "metadata": {
      "needs_background": "light"
     },
     "output_type": "display_data"
    }
   ],
   "source": [
    "mean, bin_edges, binnumber = binned_statistic( x, predict[:,1], statistic='mean', bins=10)\n",
    "std, bin_edges, binnumber = binned_statistic( x, predict[:,1], statistic='std', bins=10)\n",
    "\n",
    "plt.errorbar(bin_edges[1:], mean, yerr=std)\n",
    "plt.ylim([-0.1,1.1])\n",
    "plt.savefig('classifier_x.png')\n",
    "plt.show()"
   ]
  },
  {
   "cell_type": "code",
   "execution_count": 26,
   "id": "0ce95ad6",
   "metadata": {},
   "outputs": [
    {
     "data": {
      "image/png": "[encoded data removed]",
      "text/plain": [
       "<Figure size 432x288 with 1 Axes>"
      ]
     },
     "metadata": {
      "needs_background": "light"
     },
     "output_type": "display_data"
    }
   ],
   "source": [
    "mean, bin_edges, binnumber = binned_statistic( z, predict[:,1], statistic='mean', bins=10)\n",
    "std, bin_edges, binnumber = binned_statistic( z, predict[:,1], statistic='std', bins=10)\n",
    "\n",
    "plt.errorbar(bin_edges[1:], mean, yerr=std)\n",
    "plt.ylim(-0.1,1.1)\n",
    "plt.savefig('classifier_z.png')\n",
    "plt.show()"
   ]
  },
  {
   "cell_type": "code",
   "execution_count": 27,
   "id": "9337d8a6",
   "metadata": {},
   "outputs": [
    {
     "data": {
      "text/html": [
       "<style type=\"text/css\">\n",
       "#T_f5849_row0_col0, #T_f5849_row1_col1, #T_f5849_row2_col2 {\n",
       "  background-color: #08306b;\n",
       "  color: #f1f1f1;\n",
       "}\n",
       "#T_f5849_row0_col1 {\n",
       "  background-color: #09529d;\n",
       "  color: #f1f1f1;\n",
       "}\n",
       "#T_f5849_row0_col2 {\n",
       "  background-color: #d3e3f3;\n",
       "  color: #000000;\n",
       "}\n",
       "#T_f5849_row1_col0 {\n",
       "  background-color: #0f5aa3;\n",
       "  color: #f1f1f1;\n",
       "}\n",
       "#T_f5849_row1_col2, #T_f5849_row2_col0, #T_f5849_row2_col1 {\n",
       "  background-color: #f7fbff;\n",
       "  color: #000000;\n",
       "}\n",
       "</style>\n",
       "<table id=\"T_f5849_\">\n",
       "  <thead>\n",
       "    <tr>\n",
       "      <th class=\"blank level0\" >&nbsp;</th>\n",
       "      <th class=\"col_heading level0 col0\" >pred</th>\n",
       "      <th class=\"col_heading level0 col1\" >x</th>\n",
       "      <th class=\"col_heading level0 col2\" >z</th>\n",
       "    </tr>\n",
       "  </thead>\n",
       "  <tbody>\n",
       "    <tr>\n",
       "      <th id=\"T_f5849_level0_row0\" class=\"row_heading level0 row0\" >pred</th>\n",
       "      <td id=\"T_f5849_row0_col0\" class=\"data row0 col0\" >1.00</td>\n",
       "      <td id=\"T_f5849_row0_col1\" class=\"data row0 col1\" >0.95</td>\n",
       "      <td id=\"T_f5849_row0_col2\" class=\"data row0 col2\" >0.69</td>\n",
       "    </tr>\n",
       "    <tr>\n",
       "      <th id=\"T_f5849_level0_row1\" class=\"row_heading level0 row1\" >x</th>\n",
       "      <td id=\"T_f5849_row1_col0\" class=\"data row1 col0\" >0.95</td>\n",
       "      <td id=\"T_f5849_row1_col1\" class=\"data row1 col1\" >1.00</td>\n",
       "      <td id=\"T_f5849_row1_col2\" class=\"data row1 col2\" >0.62</td>\n",
       "    </tr>\n",
       "    <tr>\n",
       "      <th id=\"T_f5849_level0_row2\" class=\"row_heading level0 row2\" >z</th>\n",
       "      <td id=\"T_f5849_row2_col0\" class=\"data row2 col0\" >0.69</td>\n",
       "      <td id=\"T_f5849_row2_col1\" class=\"data row2 col1\" >0.62</td>\n",
       "      <td id=\"T_f5849_row2_col2\" class=\"data row2 col2\" >1.00</td>\n",
       "    </tr>\n",
       "  </tbody>\n",
       "</table>\n"
      ],
      "text/plain": [
       "<pandas.io.formats.style.Styler at 0x156a6b250>"
      ]
     },
     "execution_count": 27,
     "metadata": {},
     "output_type": "execute_result"
    }
   ],
   "source": [
    "data = {\n",
    "       'pred':predict[:,1].numpy(),\n",
    "        'x':x,\n",
    "       'z':z,\n",
    "       } \n",
    "\n",
    "df1 = pd.DataFrame(data)\n",
    "corr1 = df1.corr().round(2).style.background_gradient(cmap='Blues').format(precision=2)\n",
    "corr1"
   ]
  },
  {
   "cell_type": "code",
   "execution_count": null,
   "id": "2ac72dc9",
   "metadata": {},
   "outputs": [],
   "source": []
  },
  {
   "cell_type": "markdown",
   "id": "8625f864",
   "metadata": {},
   "source": [
    "## Train Adversary"
   ]
  },
  {
   "cell_type": "code",
   "execution_count": 28,
   "id": "c753fd69",
   "metadata": {},
   "outputs": [],
   "source": [
    "outputs = []\n",
    "classifier_x_batch = []\n",
    "for step, (x_batch_train, y_batch_train) in enumerate(train_dataset):\n",
    "    \n",
    "    outputs.append(tf.nn.softmax(classifier(x_batch_train)))\n",
    "    classifier_x_batch.append(x_batch_train)\n",
    "    "
   ]
  },
  {
   "cell_type": "code",
   "execution_count": 29,
   "id": "d74ad3f6",
   "metadata": {
    "scrolled": false
   },
   "outputs": [
    {
     "name": "stdout",
     "output_type": "stream",
     "text": [
      "Epoch 0 loss = 0.0461\n",
      "Epoch 1 loss = 0.0433\n",
      "Epoch 2 loss = 0.0034\n",
      "Epoch 3 loss = 0.0016\n",
      "Epoch 4 loss = 0.0010\n",
      "Epoch 5 loss = 0.0007\n",
      "Epoch 6 loss = 0.0005\n",
      "Epoch 7 loss = 0.0004\n",
      "Epoch 8 loss = 0.0003\n",
      "Epoch 9 loss = 0.0003\n"
     ]
    }
   ],
   "source": [
    "epochs = 10\n",
    "adversary_losses = []\n",
    "adversary_ytrue = []\n",
    "adversary_ypred = []\n",
    "\n",
    "for epoch in range(epochs):\n",
    "\n",
    "    \n",
    "\n",
    "    for step, (x_batch_train, y_batch_train) in enumerate(train_dataset_adv):\n",
    "\n",
    "        with tf.GradientTape() as tape:\n",
    "\n",
    "            adversary_inputs = [tf.nn.softmax(classifier(classifier_x_batch[step], training=False)), x_batch_train]\n",
    "            logits = adversary(adversary_inputs, training=True)  # Logits for this minibatch\n",
    "            \n",
    "            loss_value = advLoss(tf.cast(y_batch_train, dtype=float),\n",
    "                                          tf.nn.softmax(logits))\n",
    "            \n",
    "            if (math.isnan(abs(loss_value.numpy()))):\n",
    "                print(\"loss_value is nan\")\n",
    "                break\n",
    "                \n",
    "    \n",
    "            # save the losses from the last epoch\n",
    "            if (epoch > epochs - 2):\n",
    "                adversary_losses.append(loss_value)\n",
    "                adversary_ypred.append(tf.nn.softmax(adversary(adversary_inputs, training=False)))\n",
    "                adversary_ytrue.append(y_batch_train)\n",
    "\n",
    "    \n",
    "    \n",
    "        grads = tape.gradient(loss_value, adversary.trainable_weights)\n",
    "        loss = grads\n",
    "\n",
    "        optimizer_adv.apply_gradients(zip(grads, adversary.trainable_weights))\n",
    "        \n",
    "    if (math.isnan(abs(loss_value.numpy()))):\n",
    "        break\n",
    "\n",
    "\n",
    "    print('Epoch {0} loss = {1:0.4f}'.format(epoch, loss_value.numpy()))\n",
    "\n"
   ]
  },
  {
   "cell_type": "markdown",
   "id": "eaf95290",
   "metadata": {},
   "source": [
    "## Train Classifier with $ \\mathcal{L} = \\mathcal{L_{class}} - \\lambda \\mathcal{L_{adv}} $"
   ]
  },
  {
   "cell_type": "code",
   "execution_count": 31,
   "id": "8d3e7e83",
   "metadata": {},
   "outputs": [],
   "source": [
    "adversary = getAdversary('adversary')\n",
    "# adversary.load_weights('adversary_weights.h5')"
   ]
  },
  {
   "cell_type": "code",
   "execution_count": 72,
   "id": "e5c708c2",
   "metadata": {},
   "outputs": [],
   "source": [
    "classifier = getClassifier('classifier')"
   ]
  },
  {
   "cell_type": "code",
   "execution_count": 73,
   "id": "d457ae17",
   "metadata": {},
   "outputs": [],
   "source": [
    "adversary_ypred = []\n",
    "adversary_ytrue = []\n",
    "adversary_binned_x = []\n",
    "\n",
    "for step, (x_batch_train, y_batch_train) in enumerate(train_dataset_adv):\n",
    "\n",
    "    adversary_inputs = [outputs[step], x_batch_train]\n",
    "    adversary_ypred.append(tf.nn.softmax(adversary(adversary_inputs, training=False)))\n",
    "    adversary_ytrue.append(y_batch_train)\n",
    "    adversary_binned_x.append(x_batch_train)"
   ]
  },
  {
   "cell_type": "code",
   "execution_count": null,
   "id": "12b8b332",
   "metadata": {},
   "outputs": [],
   "source": []
  },
  {
   "cell_type": "code",
   "execution_count": 74,
   "id": "53a536c0",
   "metadata": {},
   "outputs": [],
   "source": [
    "# plt.plot(np.arange(len(adversary_losses)), adversary_losses, marker='o', markersize=1)\n",
    "# print(np.average(adversary_losses)*100)"
   ]
  },
  {
   "cell_type": "code",
   "execution_count": 75,
   "id": "6a381368",
   "metadata": {},
   "outputs": [
    {
     "data": {
      "text/plain": [
       "300"
      ]
     },
     "execution_count": 75,
     "metadata": {},
     "output_type": "execute_result"
    }
   ],
   "source": [
    "# factor = np.round(np.abs(0.25/np.average(adversary_losses)), 1)\n",
    "factor = HPARAMS.Lambda\n",
    "factor = 300\n",
    "factor"
   ]
  },
  {
   "cell_type": "code",
   "execution_count": 76,
   "id": "60bf25a5",
   "metadata": {},
   "outputs": [
    {
     "name": "stdout",
     "output_type": "stream",
     "text": [
      "Epoch 0 loss = 96.7796 loss_class = 0.5063 loss_adv = 0.3243\n",
      "Epoch 1 loss = 96.7822 loss_class = 0.5226 loss_adv = 0.3243\n"
     ]
    }
   ],
   "source": [
    "epochs = 2\n",
    "loss = 0\n",
    "logits = 0\n",
    "preds = 0\n",
    "loss_class = 0\n",
    "loss_adv = 0\n",
    "for epoch in range(epochs):\n",
    "    \n",
    "    for step, (x_batch_train, y_batch_train) in enumerate(train_dataset):\n",
    "\n",
    "        with tf.GradientTape() as tape:\n",
    "\n",
    "            logits = classifier(x_batch_train, training=True)  # Logits for this minibatch\n",
    "            \n",
    "            preds = y_batch_train\n",
    "            \n",
    "            adversary_inputs = [tf.nn.softmax(logits), adversary_binned_x[step]]\n",
    "            \n",
    "            logits_adv = adversary(adversary_inputs, training=False)\n",
    "            \n",
    "            loss_class = classifierLoss(tf.cast(np.array([1-y_batch_train, y_batch_train]).T, dtype=float),\n",
    "                                          tf.nn.softmax(logits))\n",
    "            \n",
    "            loss_adv = advLoss(tf.cast(adversary_ytrue[step], dtype=float), tf.nn.softmax(logits_adv))\n",
    "            \n",
    "#             print(loss_class.numpy())\n",
    "#             print(loss_adv.numpy())\n",
    "            \n",
    "            # L = L_classifier + factor*L_adversary\n",
    "            loss_value = loss_class - factor*loss_adv\n",
    "            \n",
    "            if(loss_value.numpy() < 0):\n",
    "                loss_value = tf.abs(loss_value)\n",
    "\n",
    "#             loss_adv = adversary_losses[step]\n",
    "\n",
    "            \n",
    "\n",
    "        grads = tape.gradient(loss_value, classifier.trainable_weights)\n",
    "        loss = grads\n",
    "        \n",
    "        optimizer_class.apply_gradients(zip(grads, classifier.trainable_weights))\n",
    "        \n",
    "   \n",
    "\n",
    "    print('Epoch {0} loss = {1:0.4f} loss_class = {2:0.4f} loss_adv = {3:0.4f}'.format(epoch,\n",
    "                                                                                       loss_value.numpy(),\n",
    "                                                                                       loss_class.numpy(),\n",
    "                                                                                      loss_adv.numpy()))\n",
    "\n"
   ]
  },
  {
   "cell_type": "code",
   "execution_count": 77,
   "id": "5dec93a4",
   "metadata": {},
   "outputs": [],
   "source": [
    "logits = adversary([classifier(feats), bin_x])\n",
    "predict = tf.nn.softmax(logits)"
   ]
  },
  {
   "cell_type": "code",
   "execution_count": 78,
   "id": "a3213b2a",
   "metadata": {},
   "outputs": [],
   "source": [
    "bin00 = np.average(predict.numpy()[bin_labels[:,0]==1], axis=0)[0]\n",
    "bin01 = np.average(predict.numpy()[bin_labels[:,0]==1], axis=0)[1]\n",
    "bin02 = np.average(predict.numpy()[bin_labels[:,0]==1], axis=0)[2]\n",
    "bin03 = np.average(predict.numpy()[bin_labels[:,0]==1], axis=0)[3]\n",
    "\n",
    "bin10 = np.average(predict.numpy()[bin_labels[:,1]==1], axis=0)[0]\n",
    "bin11 = np.average(predict.numpy()[bin_labels[:,1]==1], axis=0)[1]\n",
    "bin12 = np.average(predict.numpy()[bin_labels[:,1]==1], axis=0)[2]\n",
    "bin13 = np.average(predict.numpy()[bin_labels[:,1]==1], axis=0)[3]\n",
    "\n",
    "bin20 = np.average(predict.numpy()[bin_labels[:,2]==1], axis=0)[0]\n",
    "bin21 = np.average(predict.numpy()[bin_labels[:,2]==1], axis=0)[1]\n",
    "bin22 = np.average(predict.numpy()[bin_labels[:,2]==1], axis=0)[2]\n",
    "bin23 = np.average(predict.numpy()[bin_labels[:,2]==1], axis=0)[3]\n",
    "\n",
    "bin30 = np.average(predict.numpy()[bin_labels[:,3]==1], axis=0)[0]\n",
    "bin31 = np.average(predict.numpy()[bin_labels[:,3]==1], axis=0)[1]\n",
    "bin32 = np.average(predict.numpy()[bin_labels[:,3]==1], axis=0)[2]\n",
    "bin33 = np.average(predict.numpy()[bin_labels[:,3]==1], axis=0)[3]\n"
   ]
  },
  {
   "cell_type": "code",
   "execution_count": 79,
   "id": "d2c46dd9",
   "metadata": {},
   "outputs": [
    {
     "data": {
      "image/png": "[encoded data removed]",
      "text/plain": [
       "<Figure size 1008x720 with 4 Axes>"
      ]
     },
     "metadata": {
      "needs_background": "light"
     },
     "output_type": "display_data"
    }
   ],
   "source": [
    "fig, axes = plt.subplots(2,2, figsize=(14,10))\n",
    "ax1 = axes[0,0]\n",
    "ax2 = axes[0,1]\n",
    "ax3 = axes[1,0]\n",
    "ax4 = axes[1,1]\n",
    "\n",
    "b1 = ax1.bar([0,1,2,3], [bin00, bin01, bin01, bin01])\n",
    "b2 = ax2.bar([0,1,2,3], [bin10, bin11, bin21, bin31])\n",
    "b3 = ax3.bar([0,1,2,3], [bin20, bin12, bin22, bin32])\n",
    "b4 = ax4.bar([0,1,2,3], [bin30, bin13, bin23, bin33])\n",
    "\n",
    "\n",
    "x1 = b1[0].get_xy()[0]\n",
    "w1 = x1 + b1[0].get_width()\n",
    "h1 = b1[0].get_height()\n",
    "\n",
    "x2 = b2[1].get_xy()[0]\n",
    "w2 = x2 + b2[1].get_width()\n",
    "h2 = b2[1].get_height()\n",
    "\n",
    "x3 = b3[2].get_xy()[0]\n",
    "w3 = x3 + b3[2].get_width()\n",
    "h3 = b3[2].get_height()\n",
    "\n",
    "x4 = b4[3].get_xy()[0]\n",
    "w4 = x4 + b4[3].get_width()\n",
    "h4 = b4[3].get_height()\n",
    "\n",
    "ax1.fill([x1, x1, w1, w1], [0, h1, h1, 0], \"green\")\n",
    "ax2.fill([x2, x2, w2, w2], [0, h2, h2, 0], \"green\")\n",
    "ax3.fill([x3, x3, w3, w3], [0, h3, h3, 0], \"green\")\n",
    "ax4.fill([x4, x4, w4, w4], [0, h4, h4, 0], \"green\")\n",
    "\n",
    "ax1.set_xticks([0,1,2,3])\n",
    "ax2.set_xticks([0,1,2,3])\n",
    "ax3.set_xticks([0,1,2,3])\n",
    "ax4.set_xticks([0,1,2,3])\n",
    "\n",
    "ax1.set_xticklabels(['Bin 1', 'Bin 2', 'Bin 3', 'Bin 4'])\n",
    "ax2.set_xticklabels(['Bin 1', 'Bin 2', 'Bin 3', 'Bin 4'])\n",
    "ax3.set_xticklabels(['Bin 1', 'Bin 2', 'Bin 3', 'Bin 4'])\n",
    "ax4.set_xticklabels(['Bin 1', 'Bin 2', 'Bin 3', 'Bin 4'])\n",
    "\n",
    "ax1.set_title('True Bin 1')\n",
    "ax2.set_title('True Bin 2')\n",
    "ax3.set_title('True Bin 3')\n",
    "ax4.set_title('True Bin 4')\n",
    "\n",
    "\n",
    "ax1.set_ylabel('Prediction')\n",
    "ax2.set_ylabel('Prediction')\n",
    "ax3.set_ylabel('Prediction')\n",
    "ax4.set_ylabel('Prediction')\n",
    "\n",
    "\n",
    "ax1.set_ylim(0, 1)\n",
    "ax2.set_ylim(0, 1)\n",
    "ax3.set_ylim(0, 1)\n",
    "ax4.set_ylim(0, 1)\n",
    "\n",
    "ax1.legend(['y_true = 1', 'y_true = 0'])\n",
    "ax2.legend(['y_true = 1', 'y_true = 0'])\n",
    "ax3.legend(['y_true = 1', 'y_true = 0'])\n",
    "ax4.legend(['y_true = 1', 'y_true = 0'])\n",
    "\n",
    "plt.show()"
   ]
  },
  {
   "cell_type": "code",
   "execution_count": 80,
   "id": "9b77a49c",
   "metadata": {},
   "outputs": [],
   "source": [
    "logits = classifier(feats)\n",
    "predict = tf.nn.softmax(logits)\n",
    "sig = y==1\n",
    "bkg = y==0"
   ]
  },
  {
   "cell_type": "code",
   "execution_count": 81,
   "id": "bc48f998",
   "metadata": {},
   "outputs": [
    {
     "data": {
      "image/png": "[encoded data removed]",
      "text/plain": [
       "<Figure size 432x288 with 1 Axes>"
      ]
     },
     "metadata": {
      "needs_background": "light"
     },
     "output_type": "display_data"
    }
   ],
   "source": [
    "bins = np.linspace(0, 1, 20)\n",
    "\n",
    "plt.hist(predict[sig][:,1].numpy(), bins, alpha=0.5, label='Signal', density=True)\n",
    "plt.hist(predict[bkg][:,1].numpy(), bins, alpha=0.5, label='Background', density=True)\n",
    "# plt.ylim(0,25000)\n",
    "# plt.yscale('log')\n",
    "plt.legend(loc='upper center')\n",
    "plt.xlabel('Prediction')\n",
    "plt.ylabel('Density')\n",
    "plt.show()"
   ]
  },
  {
   "cell_type": "code",
   "execution_count": null,
   "id": "99f1356a",
   "metadata": {},
   "outputs": [],
   "source": []
  },
  {
   "cell_type": "code",
   "execution_count": 82,
   "id": "61d97e84",
   "metadata": {},
   "outputs": [
    {
     "name": "stdout",
     "output_type": "stream",
     "text": [
      "min = 0.80  max = 0.91\n"
     ]
    },
    {
     "data": {
      "image/png": "[encoded data removed]",
      "text/plain": [
       "<Figure size 432x288 with 1 Axes>"
      ]
     },
     "metadata": {
      "needs_background": "light"
     },
     "output_type": "display_data"
    }
   ],
   "source": [
    "mean, bin_edges, binnumber = binned_statistic( x, predict[:,1], statistic='mean', bins=10)\n",
    "std, bin_edges, binnumber = binned_statistic( x, predict[:,1], statistic='std', bins=10)\n",
    "\n",
    "plt.errorbar(bin_edges[1:], mean, yerr=std)\n",
    "plt.ylim([0,1.1])\n",
    "plt.savefig('classifier_adversary_x.png')\n",
    "print('min = {0:0.2f}  max = {1:0.2f}'.format(np.min(mean), np.max(mean)))\n",
    "plt.show()"
   ]
  },
  {
   "cell_type": "code",
   "execution_count": 83,
   "id": "7f870910",
   "metadata": {},
   "outputs": [
    {
     "name": "stdout",
     "output_type": "stream",
     "text": [
      "min = 0.80  max = 0.82\n"
     ]
    },
    {
     "data": {
      "image/png": "[encoded data removed]",
      "text/plain": [
       "<Figure size 432x288 with 1 Axes>"
      ]
     },
     "metadata": {
      "needs_background": "light"
     },
     "output_type": "display_data"
    }
   ],
   "source": [
    "mean, bin_edges, binnumber = binned_statistic( z, predict[:,1], statistic='mean', bins=10)\n",
    "std,  bin_edges, binnumber = binned_statistic( z, predict[:,1], statistic='std',  bins=10)\n",
    "\n",
    "plt.errorbar(bin_edges[1:], mean, yerr=std)\n",
    "plt.ylim(0,1.1)\n",
    "plt.savefig('classifier_adversary_z.png')\n",
    "print('min = {0:0.2f}  max = {1:0.2f}'.format(np.min(mean), np.max(mean)))\n",
    "plt.show()"
   ]
  },
  {
   "cell_type": "code",
   "execution_count": 84,
   "id": "21b44397",
   "metadata": {},
   "outputs": [],
   "source": [
    "# mean, bin_edges, binnumber = binned_statistic( z, x, statistic='count', bins=10)\n",
    "# plt.scatter(bin_edges[1:], mean)\n",
    "# plt.show()"
   ]
  },
  {
   "cell_type": "code",
   "execution_count": null,
   "id": "70b4e68f",
   "metadata": {},
   "outputs": [],
   "source": []
  },
  {
   "cell_type": "code",
   "execution_count": 85,
   "id": "1cfd350a",
   "metadata": {},
   "outputs": [],
   "source": [
    "data = {\n",
    "       'pred':predict[:,1].numpy(),\n",
    "        'x':x,\n",
    "       'z':z,\n",
    "\n",
    "       }"
   ]
  },
  {
   "cell_type": "code",
   "execution_count": 86,
   "id": "c3e18192",
   "metadata": {},
   "outputs": [],
   "source": [
    "df = pd.DataFrame(data)"
   ]
  },
  {
   "cell_type": "code",
   "execution_count": 87,
   "id": "4a04a4bd",
   "metadata": {},
   "outputs": [
    {
     "data": {
      "text/html": [
       "<style type=\"text/css\">\n",
       "#T_85662_row0_col0, #T_85662_row1_col1, #T_85662_row2_col2 {\n",
       "  background-color: #08306b;\n",
       "  color: #f1f1f1;\n",
       "}\n",
       "#T_85662_row0_col1, #T_85662_row1_col0 {\n",
       "  background-color: #4493c7;\n",
       "  color: #f1f1f1;\n",
       "}\n",
       "#T_85662_row0_col2, #T_85662_row2_col0 {\n",
       "  background-color: #f7fbff;\n",
       "  color: #000000;\n",
       "}\n",
       "#T_85662_row1_col2, #T_85662_row2_col1 {\n",
       "  background-color: #61a7d2;\n",
       "  color: #f1f1f1;\n",
       "}\n",
       "</style>\n",
       "<table id=\"T_85662_\">\n",
       "  <thead>\n",
       "    <tr>\n",
       "      <th class=\"blank level0\" >&nbsp;</th>\n",
       "      <th class=\"col_heading level0 col0\" >pred</th>\n",
       "      <th class=\"col_heading level0 col1\" >x</th>\n",
       "      <th class=\"col_heading level0 col2\" >z</th>\n",
       "    </tr>\n",
       "  </thead>\n",
       "  <tbody>\n",
       "    <tr>\n",
       "      <th id=\"T_85662_level0_row0\" class=\"row_heading level0 row0\" >pred</th>\n",
       "      <td id=\"T_85662_row0_col0\" class=\"data row0 col0\" >1.00</td>\n",
       "      <td id=\"T_85662_row0_col1\" class=\"data row0 col1\" >0.69</td>\n",
       "      <td id=\"T_85662_row0_col2\" class=\"data row0 col2\" >0.19</td>\n",
       "    </tr>\n",
       "    <tr>\n",
       "      <th id=\"T_85662_level0_row1\" class=\"row_heading level0 row1\" >x</th>\n",
       "      <td id=\"T_85662_row1_col0\" class=\"data row1 col0\" >0.69</td>\n",
       "      <td id=\"T_85662_row1_col1\" class=\"data row1 col1\" >1.00</td>\n",
       "      <td id=\"T_85662_row1_col2\" class=\"data row1 col2\" >0.62</td>\n",
       "    </tr>\n",
       "    <tr>\n",
       "      <th id=\"T_85662_level0_row2\" class=\"row_heading level0 row2\" >z</th>\n",
       "      <td id=\"T_85662_row2_col0\" class=\"data row2 col0\" >0.19</td>\n",
       "      <td id=\"T_85662_row2_col1\" class=\"data row2 col1\" >0.62</td>\n",
       "      <td id=\"T_85662_row2_col2\" class=\"data row2 col2\" >1.00</td>\n",
       "    </tr>\n",
       "  </tbody>\n",
       "</table>\n"
      ],
      "text/plain": [
       "<pandas.io.formats.style.Styler at 0x15709df40>"
      ]
     },
     "execution_count": 87,
     "metadata": {},
     "output_type": "execute_result"
    }
   ],
   "source": [
    "corr = df.corr().round(2).style.background_gradient(cmap='Blues', axis=None).format(precision=2)\n",
    "corr"
   ]
  },
  {
   "cell_type": "code",
   "execution_count": 88,
   "id": "414402ad",
   "metadata": {},
   "outputs": [
    {
     "data": {
      "text/html": [
       "<div>\n",
       "<style scoped>\n",
       "    .dataframe tbody tr th:only-of-type {\n",
       "        vertical-align: middle;\n",
       "    }\n",
       "\n",
       "    .dataframe tbody tr th {\n",
       "        vertical-align: top;\n",
       "    }\n",
       "\n",
       "    .dataframe thead th {\n",
       "        text-align: right;\n",
       "    }\n",
       "</style>\n",
       "<table border=\"1\" class=\"dataframe\">\n",
       "  <thead>\n",
       "    <tr style=\"text-align: right;\">\n",
       "      <th></th>\n",
       "      <th>x</th>\n",
       "      <th>z</th>\n",
       "    </tr>\n",
       "  </thead>\n",
       "  <tbody>\n",
       "    <tr>\n",
       "      <th>pred</th>\n",
       "      <td>-0.26</td>\n",
       "      <td>-0.5</td>\n",
       "    </tr>\n",
       "  </tbody>\n",
       "</table>\n",
       "</div>"
      ],
      "text/plain": [
       "         x    z\n",
       "pred -0.26 -0.5"
      ]
     },
     "execution_count": 88,
     "metadata": {},
     "output_type": "execute_result"
    }
   ],
   "source": [
    "change = (df.corr() - df1.corr())\n",
    "change[['x','z']].loc[['pred']].round(2)#.style.background_gradient(cmap='PRGn', axis=None)"
   ]
  },
  {
   "cell_type": "code",
   "execution_count": 89,
   "id": "abb7fc2e",
   "metadata": {},
   "outputs": [
    {
     "name": "stdout",
     "output_type": "stream",
     "text": [
      "Time 3m 11.09s\n"
     ]
    }
   ],
   "source": [
    "printTime(time.time() - start)"
   ]
  },
  {
   "cell_type": "code",
   "execution_count": 90,
   "id": "5d0dabab",
   "metadata": {},
   "outputs": [],
   "source": [
    "# 10 epochs for classifier only\n",
    "# 10 epochs for adversary\n",
    "# 100 epochs for classifier\n",
    "#\n",
    "# loss = 0.2792\n",
    "# lambda = 1250\n",
    "#\n",
    "#\n",
    "#       pred     x     z\n",
    "# pred  1.00  0.46  0.91\n",
    "# x     0.46  1.00  0.36\n",
    "# z     0.91  0.36  1.00\n",
    "#\n",
    "#\n",
    "# change: x = -0.48, z = +0.48\n",
    "#\n",
    "#\n",
    "#\n",
    "#\n",
    "#\n",
    "#\n",
    "#"
   ]
  },
  {
   "cell_type": "code",
   "execution_count": null,
   "id": "2e4ee2eb",
   "metadata": {},
   "outputs": [],
   "source": [
    "adversary.layers"
   ]
  },
  {
   "cell_type": "code",
   "execution_count": null,
   "id": "0c2c23a5",
   "metadata": {},
   "outputs": [],
   "source": [
    "for w in adversary.layers:\n",
    "    print(w.name)\n",
    "    print(w.get_weights())"
   ]
  },
  {
   "cell_type": "code",
   "execution_count": null,
   "id": "36f15b33",
   "metadata": {},
   "outputs": [],
   "source": []
  },
  {
   "cell_type": "code",
   "execution_count": null,
   "id": "753fbd83",
   "metadata": {},
   "outputs": [],
   "source": []
  },
  {
   "cell_type": "code",
   "execution_count": null,
   "id": "500c72b7",
   "metadata": {},
   "outputs": [],
   "source": []
  },
  {
   "cell_type": "code",
   "execution_count": null,
   "id": "0fbe4121",
   "metadata": {},
   "outputs": [],
   "source": []
  },
  {
   "cell_type": "code",
   "execution_count": null,
   "id": "8c595ebd",
   "metadata": {},
   "outputs": [],
   "source": []
  }
 ],
 "metadata": {
  "kernelspec": {
   "display_name": "Python 3 (ipykernel)",
   "language": "python",
   "name": "python3"
  },
  "language_info": {
   "codemirror_mode": {
    "name": "ipython",
    "version": 3
   },
   "file_extension": ".py",
   "mimetype": "text/x-python",
   "name": "python",
   "nbconvert_exporter": "python",
   "pygments_lexer": "ipython3",
   "version": "3.9.6"
  }
 },
 "nbformat": 4,
 "nbformat_minor": 5
}
